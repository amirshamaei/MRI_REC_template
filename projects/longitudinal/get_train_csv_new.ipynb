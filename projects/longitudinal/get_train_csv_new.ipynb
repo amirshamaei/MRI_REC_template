{
 "cells": [
  {
   "cell_type": "code",
   "execution_count": 1,
   "id": "initial_id",
   "metadata": {
    "collapsed": true,
    "ExecuteTime": {
     "end_time": "2024-01-09T21:14:46.283408300Z",
     "start_time": "2024-01-09T21:14:45.049928100Z"
    }
   },
   "outputs": [],
   "source": [
    "import pandas as pd\n",
    "\n",
    "data = pd.read_csv('csvs/meta.csv',index_col=None)"
   ]
  },
  {
   "cell_type": "code",
   "execution_count": 2,
   "outputs": [
    {
     "data": {
      "text/plain": "                                   Relative path        File name  \\\n0    datasets/Dataset_C2/12_channel/Test-phantom  e13970s4_P48128   \n1            datasets/Dataset_C2/12_channel/Test  e13992s4_P08704   \n2            datasets/Dataset_C2/12_channel/Test  e13993s4_P16896   \n3            datasets/Dataset_C2/12_channel/Test  e13991s3_P01536   \n4            datasets/Dataset_C2/12_channel/Test  e14079s3_P09216   \n..                                           ...              ...   \n333           datasets/Dataset_C2/12_channel/new  e19994s3_P54784   \n334           datasets/Dataset_C2/12_channel/new  e19993s9_P50176   \n335           datasets/Dataset_C2/12_channel/new  e20039s3_P33792   \n336           datasets/Dataset_C2/12_channel/new  e20059s3_P51200   \n337           datasets/Dataset_C2/12_channel/new  e20060s3_P59904   \n\n     Image X res  Image Y res  k space X res  k space Y res  Phases  Slices  \\\n0            256          256            256            218       1     170   \n1            256          256            256            218       1     170   \n2            256          256            256            218       1     170   \n3            256          256            256            218       1     170   \n4            256          256            256            218       1     170   \n..           ...          ...            ...            ...     ...     ...   \n333          256          256            256            218       1     170   \n334          256          256            256            218       1     170   \n335          256          256            256            218       1     170   \n336          256          256            256            218       1     170   \n337          256          256            256            218       1     170   \n\n     Echos  Channels   Scan date      TE        TI      TR  Flip angle  \\\n0        1        12  2018-05-23  2568.0  650000.0  6344.0         8.0   \n1        1        12  2018-05-27  2568.0  650000.0  6344.0         8.0   \n2        1        12  2018-05-27  2568.0  650000.0  6344.0         8.0   \n3        1        12  2018-05-27  2568.0  650000.0  6344.0         8.0   \n4        1        12  2018-06-10  2568.0  650000.0  6344.0         8.0   \n..     ...       ...         ...     ...       ...     ...         ...   \n333      1        12  2022-04-21  2584.0  650000.0  6380.0         8.0   \n334      1        12  2022-04-21  2584.0  650000.0  6380.0         8.0   \n335      1        12  2022-05-03  2584.0  650000.0  6380.0         8.0   \n336      1        12  2022-05-05  2584.0  650000.0  6380.0         8.0   \n337      1        12  2022-05-05  2584.0  650000.0  6380.0         8.0   \n\n        Type Patient ID  Relative scan date  Number of scan  \n0    phantom       test                 0.0             1.0  \n1    healthy    NORM469                 0.0             1.0  \n2    healthy    NORM316                 0.0             1.0  \n3    healthy    NORM306                 0.0             1.0  \n4    healthy    NORM339                 0.0             1.0  \n..       ...        ...                 ...             ...  \n333  healthy    NORM448                 0.0             1.0  \n334  healthy    NORM440                 0.0             1.0  \n335  healthy    NORM423                 0.0             1.0  \n336  healthy    NORM446                 0.0             1.0  \n337  healthy    NORM444                 0.0             1.0  \n\n[338 rows x 19 columns]",
      "text/html": "<div>\n<style scoped>\n    .dataframe tbody tr th:only-of-type {\n        vertical-align: middle;\n    }\n\n    .dataframe tbody tr th {\n        vertical-align: top;\n    }\n\n    .dataframe thead th {\n        text-align: right;\n    }\n</style>\n<table border=\"1\" class=\"dataframe\">\n  <thead>\n    <tr style=\"text-align: right;\">\n      <th></th>\n      <th>Relative path</th>\n      <th>File name</th>\n      <th>Image X res</th>\n      <th>Image Y res</th>\n      <th>k space X res</th>\n      <th>k space Y res</th>\n      <th>Phases</th>\n      <th>Slices</th>\n      <th>Echos</th>\n      <th>Channels</th>\n      <th>Scan date</th>\n      <th>TE</th>\n      <th>TI</th>\n      <th>TR</th>\n      <th>Flip angle</th>\n      <th>Type</th>\n      <th>Patient ID</th>\n      <th>Relative scan date</th>\n      <th>Number of scan</th>\n    </tr>\n  </thead>\n  <tbody>\n    <tr>\n      <th>0</th>\n      <td>datasets/Dataset_C2/12_channel/Test-phantom</td>\n      <td>e13970s4_P48128</td>\n      <td>256</td>\n      <td>256</td>\n      <td>256</td>\n      <td>218</td>\n      <td>1</td>\n      <td>170</td>\n      <td>1</td>\n      <td>12</td>\n      <td>2018-05-23</td>\n      <td>2568.0</td>\n      <td>650000.0</td>\n      <td>6344.0</td>\n      <td>8.0</td>\n      <td>phantom</td>\n      <td>test</td>\n      <td>0.0</td>\n      <td>1.0</td>\n    </tr>\n    <tr>\n      <th>1</th>\n      <td>datasets/Dataset_C2/12_channel/Test</td>\n      <td>e13992s4_P08704</td>\n      <td>256</td>\n      <td>256</td>\n      <td>256</td>\n      <td>218</td>\n      <td>1</td>\n      <td>170</td>\n      <td>1</td>\n      <td>12</td>\n      <td>2018-05-27</td>\n      <td>2568.0</td>\n      <td>650000.0</td>\n      <td>6344.0</td>\n      <td>8.0</td>\n      <td>healthy</td>\n      <td>NORM469</td>\n      <td>0.0</td>\n      <td>1.0</td>\n    </tr>\n    <tr>\n      <th>2</th>\n      <td>datasets/Dataset_C2/12_channel/Test</td>\n      <td>e13993s4_P16896</td>\n      <td>256</td>\n      <td>256</td>\n      <td>256</td>\n      <td>218</td>\n      <td>1</td>\n      <td>170</td>\n      <td>1</td>\n      <td>12</td>\n      <td>2018-05-27</td>\n      <td>2568.0</td>\n      <td>650000.0</td>\n      <td>6344.0</td>\n      <td>8.0</td>\n      <td>healthy</td>\n      <td>NORM316</td>\n      <td>0.0</td>\n      <td>1.0</td>\n    </tr>\n    <tr>\n      <th>3</th>\n      <td>datasets/Dataset_C2/12_channel/Test</td>\n      <td>e13991s3_P01536</td>\n      <td>256</td>\n      <td>256</td>\n      <td>256</td>\n      <td>218</td>\n      <td>1</td>\n      <td>170</td>\n      <td>1</td>\n      <td>12</td>\n      <td>2018-05-27</td>\n      <td>2568.0</td>\n      <td>650000.0</td>\n      <td>6344.0</td>\n      <td>8.0</td>\n      <td>healthy</td>\n      <td>NORM306</td>\n      <td>0.0</td>\n      <td>1.0</td>\n    </tr>\n    <tr>\n      <th>4</th>\n      <td>datasets/Dataset_C2/12_channel/Test</td>\n      <td>e14079s3_P09216</td>\n      <td>256</td>\n      <td>256</td>\n      <td>256</td>\n      <td>218</td>\n      <td>1</td>\n      <td>170</td>\n      <td>1</td>\n      <td>12</td>\n      <td>2018-06-10</td>\n      <td>2568.0</td>\n      <td>650000.0</td>\n      <td>6344.0</td>\n      <td>8.0</td>\n      <td>healthy</td>\n      <td>NORM339</td>\n      <td>0.0</td>\n      <td>1.0</td>\n    </tr>\n    <tr>\n      <th>...</th>\n      <td>...</td>\n      <td>...</td>\n      <td>...</td>\n      <td>...</td>\n      <td>...</td>\n      <td>...</td>\n      <td>...</td>\n      <td>...</td>\n      <td>...</td>\n      <td>...</td>\n      <td>...</td>\n      <td>...</td>\n      <td>...</td>\n      <td>...</td>\n      <td>...</td>\n      <td>...</td>\n      <td>...</td>\n      <td>...</td>\n      <td>...</td>\n    </tr>\n    <tr>\n      <th>333</th>\n      <td>datasets/Dataset_C2/12_channel/new</td>\n      <td>e19994s3_P54784</td>\n      <td>256</td>\n      <td>256</td>\n      <td>256</td>\n      <td>218</td>\n      <td>1</td>\n      <td>170</td>\n      <td>1</td>\n      <td>12</td>\n      <td>2022-04-21</td>\n      <td>2584.0</td>\n      <td>650000.0</td>\n      <td>6380.0</td>\n      <td>8.0</td>\n      <td>healthy</td>\n      <td>NORM448</td>\n      <td>0.0</td>\n      <td>1.0</td>\n    </tr>\n    <tr>\n      <th>334</th>\n      <td>datasets/Dataset_C2/12_channel/new</td>\n      <td>e19993s9_P50176</td>\n      <td>256</td>\n      <td>256</td>\n      <td>256</td>\n      <td>218</td>\n      <td>1</td>\n      <td>170</td>\n      <td>1</td>\n      <td>12</td>\n      <td>2022-04-21</td>\n      <td>2584.0</td>\n      <td>650000.0</td>\n      <td>6380.0</td>\n      <td>8.0</td>\n      <td>healthy</td>\n      <td>NORM440</td>\n      <td>0.0</td>\n      <td>1.0</td>\n    </tr>\n    <tr>\n      <th>335</th>\n      <td>datasets/Dataset_C2/12_channel/new</td>\n      <td>e20039s3_P33792</td>\n      <td>256</td>\n      <td>256</td>\n      <td>256</td>\n      <td>218</td>\n      <td>1</td>\n      <td>170</td>\n      <td>1</td>\n      <td>12</td>\n      <td>2022-05-03</td>\n      <td>2584.0</td>\n      <td>650000.0</td>\n      <td>6380.0</td>\n      <td>8.0</td>\n      <td>healthy</td>\n      <td>NORM423</td>\n      <td>0.0</td>\n      <td>1.0</td>\n    </tr>\n    <tr>\n      <th>336</th>\n      <td>datasets/Dataset_C2/12_channel/new</td>\n      <td>e20059s3_P51200</td>\n      <td>256</td>\n      <td>256</td>\n      <td>256</td>\n      <td>218</td>\n      <td>1</td>\n      <td>170</td>\n      <td>1</td>\n      <td>12</td>\n      <td>2022-05-05</td>\n      <td>2584.0</td>\n      <td>650000.0</td>\n      <td>6380.0</td>\n      <td>8.0</td>\n      <td>healthy</td>\n      <td>NORM446</td>\n      <td>0.0</td>\n      <td>1.0</td>\n    </tr>\n    <tr>\n      <th>337</th>\n      <td>datasets/Dataset_C2/12_channel/new</td>\n      <td>e20060s3_P59904</td>\n      <td>256</td>\n      <td>256</td>\n      <td>256</td>\n      <td>218</td>\n      <td>1</td>\n      <td>170</td>\n      <td>1</td>\n      <td>12</td>\n      <td>2022-05-05</td>\n      <td>2584.0</td>\n      <td>650000.0</td>\n      <td>6380.0</td>\n      <td>8.0</td>\n      <td>healthy</td>\n      <td>NORM444</td>\n      <td>0.0</td>\n      <td>1.0</td>\n    </tr>\n  </tbody>\n</table>\n<p>338 rows × 19 columns</p>\n</div>"
     },
     "execution_count": 2,
     "metadata": {},
     "output_type": "execute_result"
    }
   ],
   "source": [
    "data"
   ],
   "metadata": {
    "collapsed": false,
    "ExecuteTime": {
     "end_time": "2023-11-13T00:12:15.745786539Z",
     "start_time": "2023-11-13T00:12:15.734607658Z"
    }
   },
   "id": "e24beb6b4614317"
  },
  {
   "cell_type": "code",
   "execution_count": 14,
   "outputs": [
    {
     "name": "stdout",
     "output_type": "stream",
     "text": [
      "CSV files created in csv/Train\n"
     ]
    },
    {
     "name": "stderr",
     "output_type": "stream",
     "text": [
      "/tmp/ipykernel_3552412/1580787170.py:17: UserWarning: Boolean Series key will be reindexed to match DataFrame index.\n",
      "  patient_data = healthy_data[healthy_data['Number of scan'] == 1][healthy_data['Patient ID'] == patient_id]\n",
      "/tmp/ipykernel_3552412/1580787170.py:17: UserWarning: Boolean Series key will be reindexed to match DataFrame index.\n",
      "  patient_data = healthy_data[healthy_data['Number of scan'] == 1][healthy_data['Patient ID'] == patient_id]\n",
      "/tmp/ipykernel_3552412/1580787170.py:17: UserWarning: Boolean Series key will be reindexed to match DataFrame index.\n",
      "  patient_data = healthy_data[healthy_data['Number of scan'] == 1][healthy_data['Patient ID'] == patient_id]\n",
      "/tmp/ipykernel_3552412/1580787170.py:17: UserWarning: Boolean Series key will be reindexed to match DataFrame index.\n",
      "  patient_data = healthy_data[healthy_data['Number of scan'] == 1][healthy_data['Patient ID'] == patient_id]\n",
      "/tmp/ipykernel_3552412/1580787170.py:17: UserWarning: Boolean Series key will be reindexed to match DataFrame index.\n",
      "  patient_data = healthy_data[healthy_data['Number of scan'] == 1][healthy_data['Patient ID'] == patient_id]\n",
      "/tmp/ipykernel_3552412/1580787170.py:21: UserWarning: Boolean Series key will be reindexed to match DataFrame index.\n",
      "  patient_data = healthy_data[healthy_data['Number of scan'] != 1][healthy_data['Patient ID'] == patient_id]\n",
      "/tmp/ipykernel_3552412/1580787170.py:21: UserWarning: Boolean Series key will be reindexed to match DataFrame index.\n",
      "  patient_data = healthy_data[healthy_data['Number of scan'] != 1][healthy_data['Patient ID'] == patient_id]\n",
      "/tmp/ipykernel_3552412/1580787170.py:21: UserWarning: Boolean Series key will be reindexed to match DataFrame index.\n",
      "  patient_data = healthy_data[healthy_data['Number of scan'] != 1][healthy_data['Patient ID'] == patient_id]\n",
      "/tmp/ipykernel_3552412/1580787170.py:21: UserWarning: Boolean Series key will be reindexed to match DataFrame index.\n",
      "  patient_data = healthy_data[healthy_data['Number of scan'] != 1][healthy_data['Patient ID'] == patient_id]\n",
      "/tmp/ipykernel_3552412/1580787170.py:21: UserWarning: Boolean Series key will be reindexed to match DataFrame index.\n",
      "  patient_data = healthy_data[healthy_data['Number of scan'] != 1][healthy_data['Patient ID'] == patient_id]\n"
     ]
    }
   ],
   "source": [
    "import pandas as pd\n",
    "import os\n",
    "\n",
    "def create_patient_csvs(data, output_dir):\n",
    "\n",
    "    # Filter data for healthy subjects with 12 channels\n",
    "    healthy_data = data[(data['Type'] == 'healthy') & (data['Channels'] == 12)]\n",
    "\n",
    "    # Identify patients with more than one scan\n",
    "    patients_multiple_scans = healthy_data['Patient ID'][healthy_data['Number of scan'] != 1].unique()\n",
    "\n",
    "    # Create the output directory if it doesn't exist\n",
    "    os.makedirs(output_dir, exist_ok=True)\n",
    "\n",
    "    # Create a CSV file for each patient with multiple scans\n",
    "    for patient_id in patients_multiple_scans:\n",
    "        patient_data = healthy_data[healthy_data['Number of scan'] == 1][healthy_data['Patient ID'] == patient_id]\n",
    "        output_file = os.path.join(output_dir, f'{patient_id}_sv.csv')\n",
    "        patient_data.to_csv(output_file, index=False)\n",
    "    for patient_id in patients_multiple_scans:\n",
    "        patient_data = healthy_data[healthy_data['Number of scan'] != 1][healthy_data['Patient ID'] == patient_id]\n",
    "        output_file = os.path.join(output_dir, f'{patient_id}_mv.csv')\n",
    "        patient_data.to_csv(output_file, index=False)\n",
    "    print(f\"CSV files created in {output_dir}\")\n",
    "\n",
    "# Example usage\n",
    "input_csv_path =  data.loc[data[\"Relative path\"].str.contains(\"Train\")]# Replace with your input CSV file path\n",
    "output_directory = f'csv/Train'   # Replace with your desired output directory\n",
    "\n",
    "# input_csv_path =  data.loc[data[\"Relative path\"].str.contains(\"Test\") | data[\"Relative path\"].str.contains(\"Val\") | data[\"Relative path\"].str.contains(\"new\")]# Replace with your input CSV file path\n",
    "# output_directory = f'csv/Test'   # Replace with your desired output directory\n",
    "\n",
    "create_patient_csvs(input_csv_path, output_directory)"
   ],
   "metadata": {
    "collapsed": false,
    "ExecuteTime": {
     "end_time": "2023-11-17T06:52:10.739664603Z",
     "start_time": "2023-11-17T06:52:10.678784523Z"
    }
   },
   "id": "d73b72b176990a1b"
  },
  {
   "cell_type": "code",
   "execution_count": 48,
   "outputs": [],
   "source": [
    "train = data.loc[data[\"Type\"] == \"healthy\"].loc[data[\"Channels\"] == 12].loc[data[\"Relative path\"].str.contains(\"Train\")]\n",
    "train.to_csv('csvs/train_chal.csv')\n",
    "val = data.loc[data[\"Type\"] == \"healthy\"].loc[data[\"Channels\"] == 12].loc[data[\"Relative path\"].str.contains(\"Val\")]\n",
    "val.to_csv('csvs/val_chal.csv')\n",
    "test = data.loc[data[\"Type\"] == \"healthy\"].loc[data[\"Channels\"] == 12].loc[data[\"Relative path\"].str.contains(\"Test\")]\n",
    "test.to_csv('csvs/test_chal.csv')"
   ],
   "metadata": {
    "collapsed": false,
    "ExecuteTime": {
     "end_time": "2024-01-09T22:15:05.091776Z",
     "start_time": "2024-01-09T22:15:05.083703500Z"
    }
   },
   "id": "fcbbbb0dc13948ee"
  },
  {
   "cell_type": "code",
   "execution_count": 62,
   "outputs": [
    {
     "name": "stdout",
     "output_type": "stream",
     "text": [
      "28\n",
      "15\n",
      "13\n",
      "12\n",
      "4\n",
      "8\n",
      "37\n",
      "34\n",
      "3\n"
     ]
    }
   ],
   "source": [
    "# Group by 'Patient ID' and count the occurrences\n",
    "patient_counts = train['Patient ID'].value_counts()\n",
    "print(len(patient_counts))\n",
    "sv_patients_train = patient_counts[patient_counts == 1]\n",
    "print(sv_patients_train.count())\n",
    "mv_patients_train = patient_counts[patient_counts != 1]\n",
    "print(mv_patients_train.count())\n",
    "\n",
    "patient_counts = val['Patient ID'].value_counts()\n",
    "print(len(patient_counts))\n",
    "sv_patients_val = patient_counts[patient_counts == 1]\n",
    "print(sv_patients_val.count())\n",
    "mv_patients_val = patient_counts[patient_counts != 1]\n",
    "print(mv_patients_val.count())\n",
    "\n",
    "\n",
    "patient_counts = test['Patient ID'].value_counts()\n",
    "print(len(patient_counts))\n",
    "sv_patients_test = patient_counts[patient_counts == 1]\n",
    "print(sv_patients_test.count())\n",
    "mv_patients_test = patient_counts[patient_counts != 1]\n",
    "print(mv_patients_test.count())"
   ],
   "metadata": {
    "collapsed": false,
    "ExecuteTime": {
     "end_time": "2024-01-09T22:23:37.322364Z",
     "start_time": "2024-01-09T22:23:37.311856900Z"
    }
   },
   "id": "ffa85539ea24b667"
  },
  {
   "cell_type": "code",
   "execution_count": 42,
   "outputs": [],
   "source": [
    "train.loc[data[\"Number of scan\"] == 1].to_csv('csvs/train_fv.csv')\n",
    "val.loc[data[\"Number of scan\"] == 1].to_csv('csvs/val_fv.csv')\n",
    "test.loc[data[\"Number of scan\"] == 1].to_csv('csvs/test_fv.csv')"
   ],
   "metadata": {
    "collapsed": false,
    "ExecuteTime": {
     "end_time": "2024-01-09T22:12:48.937314800Z",
     "start_time": "2024-01-09T22:12:48.926843200Z"
    }
   },
   "id": "dfa770bf43a32e55"
  },
  {
   "cell_type": "code",
   "execution_count": 43,
   "outputs": [],
   "source": [
    "train.loc[data[\"Number of scan\"] != 1].to_csv('csvs/train_subv.csv')\n",
    "val.loc[data[\"Number of scan\"] != 1].to_csv('csvs/val_subv.csv')\n",
    "test.loc[data[\"Number of scan\"] != 1].to_csv('csvs/test_subv.csv')"
   ],
   "metadata": {
    "collapsed": false,
    "ExecuteTime": {
     "end_time": "2024-01-09T22:12:49.877364300Z",
     "start_time": "2024-01-09T22:12:49.870828700Z"
    }
   },
   "id": "ea1cc503d43b8fa0"
  },
  {
   "cell_type": "code",
   "execution_count": 64,
   "outputs": [
    {
     "data": {
      "text/plain": "                           Relative path         File name  Image X res  \\\n85   datasets/Dataset_C2/12_channel/Test  e15768s13_P14848          256   \n86   datasets/Dataset_C2/12_channel/Test   e15768s3_P07168          256   \n87   datasets/Dataset_C2/12_channel/Test   e15781s3_P89088          256   \n88   datasets/Dataset_C2/12_channel/Test  e15781s13_P96256          256   \n94   datasets/Dataset_C2/12_channel/Test   e15812s3_P44544          256   \n95   datasets/Dataset_C2/12_channel/Test  e15812s13_P51712          256   \n98   datasets/Dataset_C2/12_channel/Test  e15866s13_P72192          256   \n99   datasets/Dataset_C2/12_channel/Test   e15866s3_P65024          256   \n100  datasets/Dataset_C2/12_channel/Test   e15865s3_P55296          256   \n101  datasets/Dataset_C2/12_channel/Test  e15865s13_P62464          256   \n104  datasets/Dataset_C2/12_channel/Test  e16031s13_P70656          256   \n105  datasets/Dataset_C2/12_channel/Test   e16031s3_P63488          256   \n137  datasets/Dataset_C2/12_channel/Test   e16650s3_P47104          256   \n138  datasets/Dataset_C2/12_channel/Test   e16649s3_P37376          256   \n139  datasets/Dataset_C2/12_channel/Test  e16650s13_P54272          256   \n140  datasets/Dataset_C2/12_channel/Test  e16649s13_P44544          256   \n\n     Image Y res  k space X res  k space Y res  Phases  Slices  Echos  \\\n85           256            256            218       1     170      1   \n86           256            256            218       1     180      1   \n87           256            256            218       1     180      1   \n88           256            256            218       1     170      1   \n94           256            256            218       1     180      1   \n95           256            256            218       1     170      1   \n98           256            256            218       1     170      1   \n99           256            256            218       1     180      1   \n100          256            256            218       1     180      1   \n101          256            256            218       1     170      1   \n104          256            256            218       1     170      1   \n105          256            256            218       1     180      1   \n137          256            256            218       1     180      1   \n138          256            256            218       1     180      1   \n139          256            256            218       1     170      1   \n140          256            256            218       1     170      1   \n\n     Channels   Scan date      TE        TI      TR  Flip angle     Type  \\\n85         12  2019-03-06  2568.0  650000.0  6344.0         8.0  healthy   \n86         12  2019-03-06  3056.0  400000.0  7376.0        10.0  healthy   \n87         12  2019-03-07  3056.0  400000.0  7376.0        10.0  healthy   \n88         12  2019-03-07  2568.0  650000.0  6344.0         8.0  healthy   \n94         12  2019-03-12  3056.0  400000.0  7376.0        10.0  healthy   \n95         12  2019-03-12  2568.0  650000.0  6344.0         8.0  healthy   \n98         12  2019-03-20  2568.0  650000.0  6344.0         8.0  healthy   \n99         12  2019-03-20  3056.0  400000.0  7376.0        10.0  healthy   \n100        12  2019-03-20  3056.0  400000.0  7376.0        10.0  healthy   \n101        12  2019-03-20  2568.0  650000.0  6344.0         8.0  healthy   \n104        12  2019-04-15  2568.0  650000.0  6344.0         8.0  healthy   \n105        12  2019-04-15  3056.0  400000.0  7376.0        10.0  healthy   \n137        12  2019-07-19  3056.0  400000.0  7376.0        10.0  healthy   \n138        12  2019-07-19  3056.0  400000.0  7376.0        10.0  healthy   \n139        12  2019-07-19  2568.0  650000.0  6344.0         8.0  healthy   \n140        12  2019-07-19  2568.0  650000.0  6344.0         8.0  healthy   \n\n    Patient ID  Relative scan date  Number of scan  \n85     NORM405                 0.0             1.0  \n86     NORM405                 0.0             1.0  \n87     NORM613                 0.0             1.0  \n88     NORM613                 0.0             1.0  \n94     NORM405                 6.0             2.0  \n95     NORM405                 6.0             2.0  \n98     NORM613                13.0             2.0  \n99     NORM613                13.0             2.0  \n100    NORM405                14.0             3.0  \n101    NORM405                14.0             3.0  \n104    NORM613                39.0             3.0  \n105    NORM613                39.0             3.0  \n137    NORM100                 0.0             1.0  \n138    NORM100                 0.0             1.0  \n139    NORM100                 0.0             1.0  \n140    NORM100                 0.0             1.0  ",
      "text/html": "<div>\n<style scoped>\n    .dataframe tbody tr th:only-of-type {\n        vertical-align: middle;\n    }\n\n    .dataframe tbody tr th {\n        vertical-align: top;\n    }\n\n    .dataframe thead th {\n        text-align: right;\n    }\n</style>\n<table border=\"1\" class=\"dataframe\">\n  <thead>\n    <tr style=\"text-align: right;\">\n      <th></th>\n      <th>Relative path</th>\n      <th>File name</th>\n      <th>Image X res</th>\n      <th>Image Y res</th>\n      <th>k space X res</th>\n      <th>k space Y res</th>\n      <th>Phases</th>\n      <th>Slices</th>\n      <th>Echos</th>\n      <th>Channels</th>\n      <th>Scan date</th>\n      <th>TE</th>\n      <th>TI</th>\n      <th>TR</th>\n      <th>Flip angle</th>\n      <th>Type</th>\n      <th>Patient ID</th>\n      <th>Relative scan date</th>\n      <th>Number of scan</th>\n    </tr>\n  </thead>\n  <tbody>\n    <tr>\n      <th>85</th>\n      <td>datasets/Dataset_C2/12_channel/Test</td>\n      <td>e15768s13_P14848</td>\n      <td>256</td>\n      <td>256</td>\n      <td>256</td>\n      <td>218</td>\n      <td>1</td>\n      <td>170</td>\n      <td>1</td>\n      <td>12</td>\n      <td>2019-03-06</td>\n      <td>2568.0</td>\n      <td>650000.0</td>\n      <td>6344.0</td>\n      <td>8.0</td>\n      <td>healthy</td>\n      <td>NORM405</td>\n      <td>0.0</td>\n      <td>1.0</td>\n    </tr>\n    <tr>\n      <th>86</th>\n      <td>datasets/Dataset_C2/12_channel/Test</td>\n      <td>e15768s3_P07168</td>\n      <td>256</td>\n      <td>256</td>\n      <td>256</td>\n      <td>218</td>\n      <td>1</td>\n      <td>180</td>\n      <td>1</td>\n      <td>12</td>\n      <td>2019-03-06</td>\n      <td>3056.0</td>\n      <td>400000.0</td>\n      <td>7376.0</td>\n      <td>10.0</td>\n      <td>healthy</td>\n      <td>NORM405</td>\n      <td>0.0</td>\n      <td>1.0</td>\n    </tr>\n    <tr>\n      <th>87</th>\n      <td>datasets/Dataset_C2/12_channel/Test</td>\n      <td>e15781s3_P89088</td>\n      <td>256</td>\n      <td>256</td>\n      <td>256</td>\n      <td>218</td>\n      <td>1</td>\n      <td>180</td>\n      <td>1</td>\n      <td>12</td>\n      <td>2019-03-07</td>\n      <td>3056.0</td>\n      <td>400000.0</td>\n      <td>7376.0</td>\n      <td>10.0</td>\n      <td>healthy</td>\n      <td>NORM613</td>\n      <td>0.0</td>\n      <td>1.0</td>\n    </tr>\n    <tr>\n      <th>88</th>\n      <td>datasets/Dataset_C2/12_channel/Test</td>\n      <td>e15781s13_P96256</td>\n      <td>256</td>\n      <td>256</td>\n      <td>256</td>\n      <td>218</td>\n      <td>1</td>\n      <td>170</td>\n      <td>1</td>\n      <td>12</td>\n      <td>2019-03-07</td>\n      <td>2568.0</td>\n      <td>650000.0</td>\n      <td>6344.0</td>\n      <td>8.0</td>\n      <td>healthy</td>\n      <td>NORM613</td>\n      <td>0.0</td>\n      <td>1.0</td>\n    </tr>\n    <tr>\n      <th>94</th>\n      <td>datasets/Dataset_C2/12_channel/Test</td>\n      <td>e15812s3_P44544</td>\n      <td>256</td>\n      <td>256</td>\n      <td>256</td>\n      <td>218</td>\n      <td>1</td>\n      <td>180</td>\n      <td>1</td>\n      <td>12</td>\n      <td>2019-03-12</td>\n      <td>3056.0</td>\n      <td>400000.0</td>\n      <td>7376.0</td>\n      <td>10.0</td>\n      <td>healthy</td>\n      <td>NORM405</td>\n      <td>6.0</td>\n      <td>2.0</td>\n    </tr>\n    <tr>\n      <th>95</th>\n      <td>datasets/Dataset_C2/12_channel/Test</td>\n      <td>e15812s13_P51712</td>\n      <td>256</td>\n      <td>256</td>\n      <td>256</td>\n      <td>218</td>\n      <td>1</td>\n      <td>170</td>\n      <td>1</td>\n      <td>12</td>\n      <td>2019-03-12</td>\n      <td>2568.0</td>\n      <td>650000.0</td>\n      <td>6344.0</td>\n      <td>8.0</td>\n      <td>healthy</td>\n      <td>NORM405</td>\n      <td>6.0</td>\n      <td>2.0</td>\n    </tr>\n    <tr>\n      <th>98</th>\n      <td>datasets/Dataset_C2/12_channel/Test</td>\n      <td>e15866s13_P72192</td>\n      <td>256</td>\n      <td>256</td>\n      <td>256</td>\n      <td>218</td>\n      <td>1</td>\n      <td>170</td>\n      <td>1</td>\n      <td>12</td>\n      <td>2019-03-20</td>\n      <td>2568.0</td>\n      <td>650000.0</td>\n      <td>6344.0</td>\n      <td>8.0</td>\n      <td>healthy</td>\n      <td>NORM613</td>\n      <td>13.0</td>\n      <td>2.0</td>\n    </tr>\n    <tr>\n      <th>99</th>\n      <td>datasets/Dataset_C2/12_channel/Test</td>\n      <td>e15866s3_P65024</td>\n      <td>256</td>\n      <td>256</td>\n      <td>256</td>\n      <td>218</td>\n      <td>1</td>\n      <td>180</td>\n      <td>1</td>\n      <td>12</td>\n      <td>2019-03-20</td>\n      <td>3056.0</td>\n      <td>400000.0</td>\n      <td>7376.0</td>\n      <td>10.0</td>\n      <td>healthy</td>\n      <td>NORM613</td>\n      <td>13.0</td>\n      <td>2.0</td>\n    </tr>\n    <tr>\n      <th>100</th>\n      <td>datasets/Dataset_C2/12_channel/Test</td>\n      <td>e15865s3_P55296</td>\n      <td>256</td>\n      <td>256</td>\n      <td>256</td>\n      <td>218</td>\n      <td>1</td>\n      <td>180</td>\n      <td>1</td>\n      <td>12</td>\n      <td>2019-03-20</td>\n      <td>3056.0</td>\n      <td>400000.0</td>\n      <td>7376.0</td>\n      <td>10.0</td>\n      <td>healthy</td>\n      <td>NORM405</td>\n      <td>14.0</td>\n      <td>3.0</td>\n    </tr>\n    <tr>\n      <th>101</th>\n      <td>datasets/Dataset_C2/12_channel/Test</td>\n      <td>e15865s13_P62464</td>\n      <td>256</td>\n      <td>256</td>\n      <td>256</td>\n      <td>218</td>\n      <td>1</td>\n      <td>170</td>\n      <td>1</td>\n      <td>12</td>\n      <td>2019-03-20</td>\n      <td>2568.0</td>\n      <td>650000.0</td>\n      <td>6344.0</td>\n      <td>8.0</td>\n      <td>healthy</td>\n      <td>NORM405</td>\n      <td>14.0</td>\n      <td>3.0</td>\n    </tr>\n    <tr>\n      <th>104</th>\n      <td>datasets/Dataset_C2/12_channel/Test</td>\n      <td>e16031s13_P70656</td>\n      <td>256</td>\n      <td>256</td>\n      <td>256</td>\n      <td>218</td>\n      <td>1</td>\n      <td>170</td>\n      <td>1</td>\n      <td>12</td>\n      <td>2019-04-15</td>\n      <td>2568.0</td>\n      <td>650000.0</td>\n      <td>6344.0</td>\n      <td>8.0</td>\n      <td>healthy</td>\n      <td>NORM613</td>\n      <td>39.0</td>\n      <td>3.0</td>\n    </tr>\n    <tr>\n      <th>105</th>\n      <td>datasets/Dataset_C2/12_channel/Test</td>\n      <td>e16031s3_P63488</td>\n      <td>256</td>\n      <td>256</td>\n      <td>256</td>\n      <td>218</td>\n      <td>1</td>\n      <td>180</td>\n      <td>1</td>\n      <td>12</td>\n      <td>2019-04-15</td>\n      <td>3056.0</td>\n      <td>400000.0</td>\n      <td>7376.0</td>\n      <td>10.0</td>\n      <td>healthy</td>\n      <td>NORM613</td>\n      <td>39.0</td>\n      <td>3.0</td>\n    </tr>\n    <tr>\n      <th>137</th>\n      <td>datasets/Dataset_C2/12_channel/Test</td>\n      <td>e16650s3_P47104</td>\n      <td>256</td>\n      <td>256</td>\n      <td>256</td>\n      <td>218</td>\n      <td>1</td>\n      <td>180</td>\n      <td>1</td>\n      <td>12</td>\n      <td>2019-07-19</td>\n      <td>3056.0</td>\n      <td>400000.0</td>\n      <td>7376.0</td>\n      <td>10.0</td>\n      <td>healthy</td>\n      <td>NORM100</td>\n      <td>0.0</td>\n      <td>1.0</td>\n    </tr>\n    <tr>\n      <th>138</th>\n      <td>datasets/Dataset_C2/12_channel/Test</td>\n      <td>e16649s3_P37376</td>\n      <td>256</td>\n      <td>256</td>\n      <td>256</td>\n      <td>218</td>\n      <td>1</td>\n      <td>180</td>\n      <td>1</td>\n      <td>12</td>\n      <td>2019-07-19</td>\n      <td>3056.0</td>\n      <td>400000.0</td>\n      <td>7376.0</td>\n      <td>10.0</td>\n      <td>healthy</td>\n      <td>NORM100</td>\n      <td>0.0</td>\n      <td>1.0</td>\n    </tr>\n    <tr>\n      <th>139</th>\n      <td>datasets/Dataset_C2/12_channel/Test</td>\n      <td>e16650s13_P54272</td>\n      <td>256</td>\n      <td>256</td>\n      <td>256</td>\n      <td>218</td>\n      <td>1</td>\n      <td>170</td>\n      <td>1</td>\n      <td>12</td>\n      <td>2019-07-19</td>\n      <td>2568.0</td>\n      <td>650000.0</td>\n      <td>6344.0</td>\n      <td>8.0</td>\n      <td>healthy</td>\n      <td>NORM100</td>\n      <td>0.0</td>\n      <td>1.0</td>\n    </tr>\n    <tr>\n      <th>140</th>\n      <td>datasets/Dataset_C2/12_channel/Test</td>\n      <td>e16649s13_P44544</td>\n      <td>256</td>\n      <td>256</td>\n      <td>256</td>\n      <td>218</td>\n      <td>1</td>\n      <td>170</td>\n      <td>1</td>\n      <td>12</td>\n      <td>2019-07-19</td>\n      <td>2568.0</td>\n      <td>650000.0</td>\n      <td>6344.0</td>\n      <td>8.0</td>\n      <td>healthy</td>\n      <td>NORM100</td>\n      <td>0.0</td>\n      <td>1.0</td>\n    </tr>\n  </tbody>\n</table>\n</div>"
     },
     "execution_count": 64,
     "metadata": {},
     "output_type": "execute_result"
    }
   ],
   "source": [
    "train_mv = train[train['Patient ID'].isin(mv_patients_train.keys())]\n",
    "train_sv = train[train['Patient ID'].isin(sv_patients_train.keys())]\n",
    "val_mv = val[val['Patient ID'].isin(mv_patients_val.keys())]\n",
    "val_sv = val[val['Patient ID'].isin(sv_patients_val.keys())]\n",
    "test_mv = test[test['Patient ID'].isin(mv_patients_test.keys())]\n",
    "test_sv = test[test['Patient ID'].isin(sv_patients_test.keys())]\n",
    "\n",
    "train_sv.to_csv('csvs/train_sv.csv')\n",
    "val_sv.to_csv('csvs/val_sv.csv')\n",
    "test_sv.to_csv('csvs/test_sv.csv')\n",
    "\n",
    "train_mv.to_csv('csvs/train_mv.csv')\n",
    "val_mv.to_csv('csvs/val_mv.csv')\n",
    "test_mv.to_csv('csvs/test_mv.csv')"
   ],
   "metadata": {
    "collapsed": false,
    "ExecuteTime": {
     "end_time": "2024-01-09T22:25:17.198860500Z",
     "start_time": "2024-01-09T22:25:17.191202900Z"
    }
   },
   "id": "4291cfbff49dbef1"
  },
  {
   "cell_type": "code",
   "execution_count": 4,
   "outputs": [],
   "source": [
    "# get NORMITAVE data only first scan\n",
    "data_first = data.loc[data[\"Type\"] == \"healthy\"].loc[data[\"Channels\"] == 12].loc[data[\"Relative path\"].str.contains(\"Train\")]\n",
    "# data_first.to_csv('csvs/train_chal.csv')\n",
    "# get NORMITAVE data only first scan\n",
    "# data_first = data.loc[data[\"Type\"] == \"healthy\"].loc[data[\"Channels\"] == 12].loc[data[\"Relative path\"].str.contains(\"Val\")]\n",
    "# data_first.to_csv('csvs/val_chal.csv')\n",
    "# # get NORMITAVE data only first scan\n",
    "# data_first = data.loc[data[\"Type\"] == \"healthy\"].loc[data[\"Channels\"] == 12].loc[data[\"Relative path\"].str.contains(\"Test\")]\n",
    "# data_first.to_csv('csvs/test_chal.csv')\n",
    "# # GBM data first scan\n",
    "# data_first = data.loc[data[\"Type\"] == \"GBM\"].loc[data[\"Number of scan\"] == 1]\n",
    "# data_first.to_csv('GBM_01.csv')\n",
    "# # GBM data following scans\n",
    "# data_first = data.loc[data[\"Type\"] == \"GBM\"].loc[data[\"Number of scan\"] != 1]\n",
    "# data_first.to_csv('GBM_02.csv')\n",
    "# \n",
    "# # get NORMITAVE data only first scan\n",
    "# data_first = data.loc[data[\"Type\"] == \"healthy\"].loc[data[\"Number of scan\"] != 1].loc[data[\"Relative path\"].str.contains(\"Train\")]\n",
    "# data_first.to_csv('train02.csv')\n",
    "# # get NORMITAVE data only first scan\n",
    "# data_first = data.loc[data[\"Type\"] == \"healthy\"].loc[data[\"Number of scan\"] != 1].loc[data[\"Relative path\"].str.contains(\"Val\")]\n",
    "# data_first.to_csv('val02.csv')\n",
    "# # # get NORMITAVE data only first scan\n",
    "# data_first = data.loc[data[\"Type\"] == \"healthy\"].loc[data[\"Number of scan\"] != 1].loc[data[\"Relative path\"].str.contains(\"Test\")]\n",
    "# data_first.to_csv('test02.csv')"
   ],
   "metadata": {
    "collapsed": false,
    "ExecuteTime": {
     "end_time": "2023-11-13T00:12:26.901697382Z",
     "start_time": "2023-11-13T00:12:26.899850462Z"
    }
   },
   "id": "8f3d3e0530ffa10f"
  },
  {
   "cell_type": "code",
   "execution_count": 15,
   "outputs": [
    {
     "data": {
      "text/plain": "120"
     },
     "execution_count": 15,
     "metadata": {},
     "output_type": "execute_result"
    }
   ],
   "source": [
    "# Filter the data to include only healthy subjects\n",
    "healthy_data = data[data['Type'] == 'healthy']\n",
    "\n",
    "# Group by 'Patient ID' and count the occurrences\n",
    "patient_counts = healthy_data['Patient ID'].value_counts()\n",
    "\n",
    "# Identify patients with only one entry (no repeated measurements)\n",
    "healthy_unique_patients = patient_counts[patient_counts == 1]\n",
    "\n",
    "# Number of healthy subjects with no repeated measurements\n",
    "num_healthy_unique_patients = healthy_unique_patients.count()\n",
    "num_healthy_unique_patients\n"
   ],
   "metadata": {
    "collapsed": false,
    "ExecuteTime": {
     "end_time": "2024-01-09T21:48:43.564322100Z",
     "start_time": "2024-01-09T21:48:43.551177300Z"
    }
   },
   "id": "9f5f69eca6bb2c71"
  },
  {
   "cell_type": "code",
   "execution_count": 83,
   "outputs": [],
   "source": [
    "# data_first = data.loc[data[\"Type\"] == \"healthy\"].loc[data[\"Number of scan\"] == 1].loc[data[\"Relative path\"].str.contains(\"Train\")].loc[data[\"Slices\"]==170].loc[data[\"Channels\"]==12]\n",
    "# data_first.to_csv('train01_170.csv')\n",
    "# # get NORMITAVE data only first scan\n",
    "# data_first = data.loc[data[\"Type\"] == \"healthy\"].loc[data[\"Number of scan\"] == 1].loc[data[\"Relative path\"].str.contains(\"Val\")].loc[data[\"Slices\"]==170].loc[data[\"Channels\"]==12]\n",
    "# data_first.to_csv('val01_170.csv')\n",
    "# # # get NORMITAVE data only first scan\n",
    "# data_first = data.loc[data[\"Type\"] == \"healthy\"].loc[data[\"Number of scan\"] == 1].loc[data[\"Relative path\"].str.contains(\"Test\")].loc[data[\"Slices\"]==170].loc[data[\"Channels\"]==12]\n",
    "# data_first.to_csv('test01_170.csv')"
   ],
   "metadata": {
    "collapsed": false,
    "ExecuteTime": {
     "end_time": "2023-11-12T20:32:10.936925793Z",
     "start_time": "2023-11-12T20:32:10.879080369Z"
    }
   },
   "id": "40addbc1958fdbbe"
  },
  {
   "cell_type": "code",
   "execution_count": 16,
   "outputs": [
    {
     "data": {
      "text/plain": "3"
     },
     "execution_count": 16,
     "metadata": {},
     "output_type": "execute_result"
    }
   ],
   "source": [
    "data_healthy = data.loc[data[\"Type\"] == \"healthy\"].loc[data[\"Relative path\"].str.contains(\"new\")].loc[data[\"Channels\"] == 12]\n",
    "data_healthy\n",
    "patient_counts = data_healthy['Patient ID'].value_counts()\n",
    "patient_counts\n",
    "# Identify patients with only one entry (no repeated measurements)\n",
    "healthy_unique_patients = patient_counts[patient_counts != 1]\n",
    "\n",
    "# Number of healthy subjects with no repeated measurements\n",
    "num_healthy_unique_patients = healthy_unique_patients.count()\n",
    "num_healthy_unique_patients\n",
    "\n",
    "# healthy_unique_patients\n",
    "# healthy_unique_patients = data_healthy\n"
   ],
   "metadata": {
    "collapsed": false,
    "ExecuteTime": {
     "end_time": "2024-01-09T21:49:17.220811600Z",
     "start_time": "2024-01-09T21:49:17.216110600Z"
    }
   },
   "id": "7e52666e68fe11ef"
  },
  {
   "cell_type": "code",
   "execution_count": 7,
   "outputs": [
    {
     "data": {
      "text/plain": "31"
     },
     "execution_count": 7,
     "metadata": {},
     "output_type": "execute_result"
    }
   ],
   "source": [
    "len(data_healthy)"
   ],
   "metadata": {
    "collapsed": false,
    "ExecuteTime": {
     "end_time": "2023-11-13T00:12:48.636461016Z",
     "start_time": "2023-11-13T00:12:48.573231819Z"
    }
   },
   "id": "5d791da89a1bfc57"
  },
  {
   "cell_type": "code",
   "execution_count": 8,
   "outputs": [
    {
     "data": {
      "text/plain": "                          Relative path        File name  Image X res  \\\n319  datasets/Dataset_C2/12_channel/new  e19850s3_P09728          256   \n320  datasets/Dataset_C2/12_channel/new  e19861s3_P16384          256   \n321  datasets/Dataset_C2/12_channel/new  e19864s3_P17408          256   \n322  datasets/Dataset_C2/12_channel/new  e19869s3_P60928          256   \n323  datasets/Dataset_C2/12_channel/new  e19870s3_P70656          256   \n324  datasets/Dataset_C2/12_channel/new  e19890s3_P36352          256   \n326  datasets/Dataset_C2/12_channel/new  e19928s3_P17408          256   \n327  datasets/Dataset_C2/12_channel/new  e19933s5_P59904          256   \n328  datasets/Dataset_C2/12_channel/new  e19932s3_P49664          256   \n329  datasets/Dataset_C2/12_channel/new  e19961s3_P20480          256   \n330  datasets/Dataset_C2/12_channel/new  e19963s3_P39936          256   \n331  datasets/Dataset_C2/12_channel/new  e19967s4_P16896          256   \n332  datasets/Dataset_C2/12_channel/new  e19977s3_P37888          256   \n333  datasets/Dataset_C2/12_channel/new  e19994s3_P54784          256   \n334  datasets/Dataset_C2/12_channel/new  e19993s9_P50176          256   \n335  datasets/Dataset_C2/12_channel/new  e20039s3_P33792          256   \n336  datasets/Dataset_C2/12_channel/new  e20059s3_P51200          256   \n337  datasets/Dataset_C2/12_channel/new  e20060s3_P59904          256   \n\n     Image Y res  k space X res  k space Y res  Phases  Slices  Echos  \\\n319          256            256            218       1     170      1   \n320          256            256            218       1     170      1   \n321          256            256            218       1     170      1   \n322          256            256            218       1     170      1   \n323          256            256            218       1     170      1   \n324          256            256            218       1     170      1   \n326          256            256            218       1     170      1   \n327          256            256            218       1     170      1   \n328          256            256            218       1     170      1   \n329          256            256            218       1     170      1   \n330          256            256            218       1     170      1   \n331          256            256            218       1     170      1   \n332          256            256            218       1     170      1   \n333          256            256            218       1     170      1   \n334          256            256            218       1     170      1   \n335          256            256            218       1     170      1   \n336          256            256            218       1     170      1   \n337          256            256            218       1     170      1   \n\n     Channels   Scan date      TE        TI      TR  Flip angle     Type  \\\n319        12  2022-03-17  2584.0  650000.0  6380.0         8.0  healthy   \n320        12  2022-03-21  2584.0  650000.0  6380.0         8.0  healthy   \n321        12  2022-03-22  2584.0  650000.0  6380.0         8.0  healthy   \n322        12  2022-03-23  2584.0  650000.0  6380.0         8.0  healthy   \n323        12  2022-03-23  2584.0  650000.0  6380.0         8.0  healthy   \n324        12  2022-03-28  2584.0  650000.0  6380.0         8.0  healthy   \n326        12  2022-04-06  2584.0  650000.0  6380.0         8.0  healthy   \n327        12  2022-04-07  2584.0  650000.0  6380.0         8.0  healthy   \n328        12  2022-04-07  2584.0  650000.0  6380.0         8.0  healthy   \n329        12  2022-04-13  2584.0  650000.0  6380.0         8.0  healthy   \n330        12  2022-04-13  2584.0  650000.0  6380.0         8.0  healthy   \n331        12  2022-04-14  2584.0  650000.0  6380.0         8.0  healthy   \n332        12  2022-04-18  2584.0  650000.0  6380.0         8.0  healthy   \n333        12  2022-04-21  2584.0  650000.0  6380.0         8.0  healthy   \n334        12  2022-04-21  2584.0  650000.0  6380.0         8.0  healthy   \n335        12  2022-05-03  2584.0  650000.0  6380.0         8.0  healthy   \n336        12  2022-05-05  2584.0  650000.0  6380.0         8.0  healthy   \n337        12  2022-05-05  2584.0  650000.0  6380.0         8.0  healthy   \n\n    Patient ID  Relative scan date  Number of scan  \n319    NORM414                 0.0             1.0  \n320    NORM406                 0.0             1.0  \n321    NORM422                 0.0             1.0  \n322    NORM438                 0.0             1.0  \n323    NORM410                 0.0             1.0  \n324    NORM424                 0.0             1.0  \n326    NORM426                 0.0             1.0  \n327    NORM441                 0.0             1.0  \n328    NORM421                 0.0             1.0  \n329    NORM411                 0.0             1.0  \n330    NORM404                 0.0             1.0  \n331    NORM435                 0.0             1.0  \n332    NROM405                 0.0             1.0  \n333    NORM448                 0.0             1.0  \n334    NORM440                 0.0             1.0  \n335    NORM423                 0.0             1.0  \n336    NORM446                 0.0             1.0  \n337    NORM444                 0.0             1.0  ",
      "text/html": "<div>\n<style scoped>\n    .dataframe tbody tr th:only-of-type {\n        vertical-align: middle;\n    }\n\n    .dataframe tbody tr th {\n        vertical-align: top;\n    }\n\n    .dataframe thead th {\n        text-align: right;\n    }\n</style>\n<table border=\"1\" class=\"dataframe\">\n  <thead>\n    <tr style=\"text-align: right;\">\n      <th></th>\n      <th>Relative path</th>\n      <th>File name</th>\n      <th>Image X res</th>\n      <th>Image Y res</th>\n      <th>k space X res</th>\n      <th>k space Y res</th>\n      <th>Phases</th>\n      <th>Slices</th>\n      <th>Echos</th>\n      <th>Channels</th>\n      <th>Scan date</th>\n      <th>TE</th>\n      <th>TI</th>\n      <th>TR</th>\n      <th>Flip angle</th>\n      <th>Type</th>\n      <th>Patient ID</th>\n      <th>Relative scan date</th>\n      <th>Number of scan</th>\n    </tr>\n  </thead>\n  <tbody>\n    <tr>\n      <th>319</th>\n      <td>datasets/Dataset_C2/12_channel/new</td>\n      <td>e19850s3_P09728</td>\n      <td>256</td>\n      <td>256</td>\n      <td>256</td>\n      <td>218</td>\n      <td>1</td>\n      <td>170</td>\n      <td>1</td>\n      <td>12</td>\n      <td>2022-03-17</td>\n      <td>2584.0</td>\n      <td>650000.0</td>\n      <td>6380.0</td>\n      <td>8.0</td>\n      <td>healthy</td>\n      <td>NORM414</td>\n      <td>0.0</td>\n      <td>1.0</td>\n    </tr>\n    <tr>\n      <th>320</th>\n      <td>datasets/Dataset_C2/12_channel/new</td>\n      <td>e19861s3_P16384</td>\n      <td>256</td>\n      <td>256</td>\n      <td>256</td>\n      <td>218</td>\n      <td>1</td>\n      <td>170</td>\n      <td>1</td>\n      <td>12</td>\n      <td>2022-03-21</td>\n      <td>2584.0</td>\n      <td>650000.0</td>\n      <td>6380.0</td>\n      <td>8.0</td>\n      <td>healthy</td>\n      <td>NORM406</td>\n      <td>0.0</td>\n      <td>1.0</td>\n    </tr>\n    <tr>\n      <th>321</th>\n      <td>datasets/Dataset_C2/12_channel/new</td>\n      <td>e19864s3_P17408</td>\n      <td>256</td>\n      <td>256</td>\n      <td>256</td>\n      <td>218</td>\n      <td>1</td>\n      <td>170</td>\n      <td>1</td>\n      <td>12</td>\n      <td>2022-03-22</td>\n      <td>2584.0</td>\n      <td>650000.0</td>\n      <td>6380.0</td>\n      <td>8.0</td>\n      <td>healthy</td>\n      <td>NORM422</td>\n      <td>0.0</td>\n      <td>1.0</td>\n    </tr>\n    <tr>\n      <th>322</th>\n      <td>datasets/Dataset_C2/12_channel/new</td>\n      <td>e19869s3_P60928</td>\n      <td>256</td>\n      <td>256</td>\n      <td>256</td>\n      <td>218</td>\n      <td>1</td>\n      <td>170</td>\n      <td>1</td>\n      <td>12</td>\n      <td>2022-03-23</td>\n      <td>2584.0</td>\n      <td>650000.0</td>\n      <td>6380.0</td>\n      <td>8.0</td>\n      <td>healthy</td>\n      <td>NORM438</td>\n      <td>0.0</td>\n      <td>1.0</td>\n    </tr>\n    <tr>\n      <th>323</th>\n      <td>datasets/Dataset_C2/12_channel/new</td>\n      <td>e19870s3_P70656</td>\n      <td>256</td>\n      <td>256</td>\n      <td>256</td>\n      <td>218</td>\n      <td>1</td>\n      <td>170</td>\n      <td>1</td>\n      <td>12</td>\n      <td>2022-03-23</td>\n      <td>2584.0</td>\n      <td>650000.0</td>\n      <td>6380.0</td>\n      <td>8.0</td>\n      <td>healthy</td>\n      <td>NORM410</td>\n      <td>0.0</td>\n      <td>1.0</td>\n    </tr>\n    <tr>\n      <th>324</th>\n      <td>datasets/Dataset_C2/12_channel/new</td>\n      <td>e19890s3_P36352</td>\n      <td>256</td>\n      <td>256</td>\n      <td>256</td>\n      <td>218</td>\n      <td>1</td>\n      <td>170</td>\n      <td>1</td>\n      <td>12</td>\n      <td>2022-03-28</td>\n      <td>2584.0</td>\n      <td>650000.0</td>\n      <td>6380.0</td>\n      <td>8.0</td>\n      <td>healthy</td>\n      <td>NORM424</td>\n      <td>0.0</td>\n      <td>1.0</td>\n    </tr>\n    <tr>\n      <th>326</th>\n      <td>datasets/Dataset_C2/12_channel/new</td>\n      <td>e19928s3_P17408</td>\n      <td>256</td>\n      <td>256</td>\n      <td>256</td>\n      <td>218</td>\n      <td>1</td>\n      <td>170</td>\n      <td>1</td>\n      <td>12</td>\n      <td>2022-04-06</td>\n      <td>2584.0</td>\n      <td>650000.0</td>\n      <td>6380.0</td>\n      <td>8.0</td>\n      <td>healthy</td>\n      <td>NORM426</td>\n      <td>0.0</td>\n      <td>1.0</td>\n    </tr>\n    <tr>\n      <th>327</th>\n      <td>datasets/Dataset_C2/12_channel/new</td>\n      <td>e19933s5_P59904</td>\n      <td>256</td>\n      <td>256</td>\n      <td>256</td>\n      <td>218</td>\n      <td>1</td>\n      <td>170</td>\n      <td>1</td>\n      <td>12</td>\n      <td>2022-04-07</td>\n      <td>2584.0</td>\n      <td>650000.0</td>\n      <td>6380.0</td>\n      <td>8.0</td>\n      <td>healthy</td>\n      <td>NORM441</td>\n      <td>0.0</td>\n      <td>1.0</td>\n    </tr>\n    <tr>\n      <th>328</th>\n      <td>datasets/Dataset_C2/12_channel/new</td>\n      <td>e19932s3_P49664</td>\n      <td>256</td>\n      <td>256</td>\n      <td>256</td>\n      <td>218</td>\n      <td>1</td>\n      <td>170</td>\n      <td>1</td>\n      <td>12</td>\n      <td>2022-04-07</td>\n      <td>2584.0</td>\n      <td>650000.0</td>\n      <td>6380.0</td>\n      <td>8.0</td>\n      <td>healthy</td>\n      <td>NORM421</td>\n      <td>0.0</td>\n      <td>1.0</td>\n    </tr>\n    <tr>\n      <th>329</th>\n      <td>datasets/Dataset_C2/12_channel/new</td>\n      <td>e19961s3_P20480</td>\n      <td>256</td>\n      <td>256</td>\n      <td>256</td>\n      <td>218</td>\n      <td>1</td>\n      <td>170</td>\n      <td>1</td>\n      <td>12</td>\n      <td>2022-04-13</td>\n      <td>2584.0</td>\n      <td>650000.0</td>\n      <td>6380.0</td>\n      <td>8.0</td>\n      <td>healthy</td>\n      <td>NORM411</td>\n      <td>0.0</td>\n      <td>1.0</td>\n    </tr>\n    <tr>\n      <th>330</th>\n      <td>datasets/Dataset_C2/12_channel/new</td>\n      <td>e19963s3_P39936</td>\n      <td>256</td>\n      <td>256</td>\n      <td>256</td>\n      <td>218</td>\n      <td>1</td>\n      <td>170</td>\n      <td>1</td>\n      <td>12</td>\n      <td>2022-04-13</td>\n      <td>2584.0</td>\n      <td>650000.0</td>\n      <td>6380.0</td>\n      <td>8.0</td>\n      <td>healthy</td>\n      <td>NORM404</td>\n      <td>0.0</td>\n      <td>1.0</td>\n    </tr>\n    <tr>\n      <th>331</th>\n      <td>datasets/Dataset_C2/12_channel/new</td>\n      <td>e19967s4_P16896</td>\n      <td>256</td>\n      <td>256</td>\n      <td>256</td>\n      <td>218</td>\n      <td>1</td>\n      <td>170</td>\n      <td>1</td>\n      <td>12</td>\n      <td>2022-04-14</td>\n      <td>2584.0</td>\n      <td>650000.0</td>\n      <td>6380.0</td>\n      <td>8.0</td>\n      <td>healthy</td>\n      <td>NORM435</td>\n      <td>0.0</td>\n      <td>1.0</td>\n    </tr>\n    <tr>\n      <th>332</th>\n      <td>datasets/Dataset_C2/12_channel/new</td>\n      <td>e19977s3_P37888</td>\n      <td>256</td>\n      <td>256</td>\n      <td>256</td>\n      <td>218</td>\n      <td>1</td>\n      <td>170</td>\n      <td>1</td>\n      <td>12</td>\n      <td>2022-04-18</td>\n      <td>2584.0</td>\n      <td>650000.0</td>\n      <td>6380.0</td>\n      <td>8.0</td>\n      <td>healthy</td>\n      <td>NROM405</td>\n      <td>0.0</td>\n      <td>1.0</td>\n    </tr>\n    <tr>\n      <th>333</th>\n      <td>datasets/Dataset_C2/12_channel/new</td>\n      <td>e19994s3_P54784</td>\n      <td>256</td>\n      <td>256</td>\n      <td>256</td>\n      <td>218</td>\n      <td>1</td>\n      <td>170</td>\n      <td>1</td>\n      <td>12</td>\n      <td>2022-04-21</td>\n      <td>2584.0</td>\n      <td>650000.0</td>\n      <td>6380.0</td>\n      <td>8.0</td>\n      <td>healthy</td>\n      <td>NORM448</td>\n      <td>0.0</td>\n      <td>1.0</td>\n    </tr>\n    <tr>\n      <th>334</th>\n      <td>datasets/Dataset_C2/12_channel/new</td>\n      <td>e19993s9_P50176</td>\n      <td>256</td>\n      <td>256</td>\n      <td>256</td>\n      <td>218</td>\n      <td>1</td>\n      <td>170</td>\n      <td>1</td>\n      <td>12</td>\n      <td>2022-04-21</td>\n      <td>2584.0</td>\n      <td>650000.0</td>\n      <td>6380.0</td>\n      <td>8.0</td>\n      <td>healthy</td>\n      <td>NORM440</td>\n      <td>0.0</td>\n      <td>1.0</td>\n    </tr>\n    <tr>\n      <th>335</th>\n      <td>datasets/Dataset_C2/12_channel/new</td>\n      <td>e20039s3_P33792</td>\n      <td>256</td>\n      <td>256</td>\n      <td>256</td>\n      <td>218</td>\n      <td>1</td>\n      <td>170</td>\n      <td>1</td>\n      <td>12</td>\n      <td>2022-05-03</td>\n      <td>2584.0</td>\n      <td>650000.0</td>\n      <td>6380.0</td>\n      <td>8.0</td>\n      <td>healthy</td>\n      <td>NORM423</td>\n      <td>0.0</td>\n      <td>1.0</td>\n    </tr>\n    <tr>\n      <th>336</th>\n      <td>datasets/Dataset_C2/12_channel/new</td>\n      <td>e20059s3_P51200</td>\n      <td>256</td>\n      <td>256</td>\n      <td>256</td>\n      <td>218</td>\n      <td>1</td>\n      <td>170</td>\n      <td>1</td>\n      <td>12</td>\n      <td>2022-05-05</td>\n      <td>2584.0</td>\n      <td>650000.0</td>\n      <td>6380.0</td>\n      <td>8.0</td>\n      <td>healthy</td>\n      <td>NORM446</td>\n      <td>0.0</td>\n      <td>1.0</td>\n    </tr>\n    <tr>\n      <th>337</th>\n      <td>datasets/Dataset_C2/12_channel/new</td>\n      <td>e20060s3_P59904</td>\n      <td>256</td>\n      <td>256</td>\n      <td>256</td>\n      <td>218</td>\n      <td>1</td>\n      <td>170</td>\n      <td>1</td>\n      <td>12</td>\n      <td>2022-05-05</td>\n      <td>2584.0</td>\n      <td>650000.0</td>\n      <td>6380.0</td>\n      <td>8.0</td>\n      <td>healthy</td>\n      <td>NORM444</td>\n      <td>0.0</td>\n      <td>1.0</td>\n    </tr>\n  </tbody>\n</table>\n</div>"
     },
     "execution_count": 8,
     "metadata": {},
     "output_type": "execute_result"
    }
   ],
   "source": [
    "from sklearn.model_selection import train_test_split\n",
    "\n",
    "# Sort the data by 'Patient ID' and 'Scan date'\n",
    "# df_sorted = data_healthy.sort_values(by=['Patient ID', 'Scan date'])\n",
    "\n",
    "# Remove duplicate entries based on 'Patient ID', keeping the first scan for each patient\n",
    "df_unique_patients = data_healthy.loc[data[\"Number of scan\"] == 1].drop_duplicates(subset='Patient ID')\n",
    "\n",
    "# Split the unique patients into train (70%), validation (15%), and test (15%) sets\n",
    "train, val_test = train_test_split(df_unique_patients, test_size=0.3, random_state=42)\n",
    "val, test = train_test_split(val_test, test_size=0.5, random_state=42)\n",
    "\n",
    "# Show the number of patients in each set\n",
    "len(train), len(val), len(test)\n",
    "df_unique_patients"
   ],
   "metadata": {
    "collapsed": false,
    "ExecuteTime": {
     "end_time": "2023-11-13T00:12:51.516053462Z",
     "start_time": "2023-11-13T00:12:51.089441553Z"
    }
   },
   "id": "a0bd006fa024df1"
  },
  {
   "cell_type": "code",
   "execution_count": 9,
   "outputs": [
    {
     "data": {
      "text/plain": "(12, 3, 3, 18)"
     },
     "execution_count": 9,
     "metadata": {},
     "output_type": "execute_result"
    }
   ],
   "source": [
    "# Get the corresponding scans for each patient in the train, validation, and test sets\n",
    "train_data = data_healthy[data_healthy['Patient ID'].isin(train['Patient ID'])]\n",
    "val_data = data_healthy[data_healthy['Patient ID'].isin(val['Patient ID'])]\n",
    "test_data = data_healthy[data_healthy['Patient ID'].isin(test['Patient ID'])]\n",
    "\n",
    "# Show the number of scans in each set\n",
    "len(train_data), len(val_data), len(test_data), len(train_data)+len(val_data)+len(test_data)\n"
   ],
   "metadata": {
    "collapsed": false,
    "ExecuteTime": {
     "end_time": "2023-11-13T00:13:06.641615349Z",
     "start_time": "2023-11-13T00:13:06.639766521Z"
    }
   },
   "id": "3ffed4e69f18468c"
  },
  {
   "cell_type": "code",
   "execution_count": 87,
   "outputs": [
    {
     "data": {
      "text/plain": "31"
     },
     "execution_count": 87,
     "metadata": {},
     "output_type": "execute_result"
    }
   ],
   "source": [
    "train_data"
   ],
   "metadata": {
    "collapsed": false,
    "ExecuteTime": {
     "end_time": "2023-11-12T20:36:05.134730709Z",
     "start_time": "2023-11-12T20:36:05.085618333Z"
    }
   },
   "id": "b1c92f9e340a94e0"
  },
  {
   "cell_type": "code",
   "execution_count": 17,
   "outputs": [
    {
     "data": {
      "text/plain": "\"There is overlap between the sets:\\nOverlap between Validation and Test: {'NORM100'}\\n\""
     },
     "execution_count": 17,
     "metadata": {},
     "output_type": "execute_result"
    }
   ],
   "source": [
    "def test_no_overlap(train_ids, val_ids, test_ids):\n",
    "    \"\"\"\n",
    "    Test function to ensure there is no overlap in patient IDs between train, validation, and test sets.\n",
    "\n",
    "    Parameters:\n",
    "    train_ids (set): Set of patient IDs in the train set.\n",
    "    val_ids (set): Set of patient IDs in the validation set.\n",
    "    test_ids (set): Set of patient IDs in the test set.\n",
    "\n",
    "    Returns:\n",
    "    str: A message indicating whether there is any overlap and, if so, which IDs are overlapping.\n",
    "    \"\"\"\n",
    "\n",
    "    # Find the intersection between the sets\n",
    "    train_val_overlap = train_ids.intersection(val_ids)\n",
    "    train_test_overlap = train_ids.intersection(test_ids)\n",
    "    val_test_overlap = val_ids.intersection(test_ids)\n",
    "\n",
    "    # Prepare a message to indicate if there is any overlap\n",
    "    overlap_message = \"\"\n",
    "    if train_val_overlap:\n",
    "        overlap_message += f\"Overlap between Train and Validation: {train_val_overlap}\\n\"\n",
    "    if train_test_overlap:\n",
    "        overlap_message += f\"Overlap between Train and Test: {train_test_overlap}\\n\"\n",
    "    if val_test_overlap:\n",
    "        overlap_message += f\"Overlap between Validation and Test: {val_test_overlap}\\n\"\n",
    "    \n",
    "    # If there is any overlap, return the message\n",
    "    if overlap_message:\n",
    "        return f\"There is overlap between the sets:\\n{overlap_message}\"\n",
    "    else:\n",
    "        return \"No overlap between train, validation, and test sets. The partition is correct.\"\n",
    "\n",
    "# Convert the patient IDs to sets\n",
    "train_ids = set(train['Patient ID'])\n",
    "val_ids = set(val['Patient ID'])\n",
    "test_ids = set(test['Patient ID'])\n",
    "\n",
    "# Run the test function\n",
    "test_no_overlap(train_ids, val_ids, test_ids)\n"
   ],
   "metadata": {
    "collapsed": false,
    "ExecuteTime": {
     "end_time": "2024-01-09T21:50:42.009976Z",
     "start_time": "2024-01-09T21:50:42.004804200Z"
    }
   },
   "id": "61440f6ac604458c"
  },
  {
   "cell_type": "code",
   "execution_count": 86,
   "outputs": [
    {
     "data": {
      "text/plain": "(19, 2, 10, 31)"
     },
     "execution_count": 86,
     "metadata": {},
     "output_type": "execute_result"
    }
   ],
   "source": [
    "train.loc[data[\"Channels\"]==12].loc[data[\"Number of scan\"] == 1].to_csv('csvs/train_sv.csv')\n",
    "val.loc[data[\"Channels\"]==12].loc[data[\"Number of scan\"] == 1].to_csv('csvs/val_sv.csv')\n",
    "test.loc[data[\"Channels\"]==12].loc[data[\"Number of scan\"] == 1].to_csv('csvs/test_sv.csv')"
   ],
   "metadata": {
    "collapsed": false,
    "ExecuteTime": {
     "end_time": "2023-11-12T20:35:39.876331910Z",
     "start_time": "2023-11-12T20:35:39.829605877Z"
    }
   },
   "id": "d2cd429caea1dc6a"
  }
 ],
 "metadata": {
  "kernelspec": {
   "display_name": "Python 3",
   "language": "python",
   "name": "python3"
  },
  "language_info": {
   "codemirror_mode": {
    "name": "ipython",
    "version": 2
   },
   "file_extension": ".py",
   "mimetype": "text/x-python",
   "name": "python",
   "nbconvert_exporter": "python",
   "pygments_lexer": "ipython2",
   "version": "2.7.6"
  }
 },
 "nbformat": 4,
 "nbformat_minor": 5
}
