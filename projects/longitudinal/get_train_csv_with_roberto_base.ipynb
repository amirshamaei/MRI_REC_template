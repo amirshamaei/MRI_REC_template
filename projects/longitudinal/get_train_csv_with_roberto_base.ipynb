{
 "cells": [
  {
   "cell_type": "code",
   "execution_count": 69,
   "id": "initial_id",
   "metadata": {
    "collapsed": true,
    "ExecuteTime": {
     "end_time": "2024-04-22T19:45:24.249903333Z",
     "start_time": "2024-04-22T19:45:24.202110997Z"
    }
   },
   "outputs": [],
   "source": [
    "import pandas as pd\n",
    "\n",
    "data = pd.read_csv('csvs/meta.csv',index_col=None)"
   ]
  },
  {
   "cell_type": "code",
   "execution_count": 70,
   "outputs": [],
   "source": [
    "\n",
    "# Convert Patient IDs to uppercase\n",
    "data['Patient ID'] = data['Patient ID'].str.upper()\n",
    "\n",
    "# Write the updated dataframe to a new CSV file\n",
    "data.to_csv('csvs/meta.csv', index=False)"
   ],
   "metadata": {
    "collapsed": false,
    "ExecuteTime": {
     "end_time": "2024-04-22T19:45:24.910832803Z",
     "start_time": "2024-04-22T19:45:24.905638394Z"
    }
   },
   "id": "6289733167366a0f"
  },
  {
   "cell_type": "code",
   "execution_count": 71,
   "outputs": [
    {
     "data": {
      "text/plain": "                                   Relative path        File name  \\\n0    datasets/Dataset_C2/12_channel/Test-phantom  e13970s4_P48128   \n1            datasets/Dataset_C2/12_channel/Test  e13992s4_P08704   \n2            datasets/Dataset_C2/12_channel/Test  e13993s4_P16896   \n3            datasets/Dataset_C2/12_channel/Test  e13991s3_P01536   \n4            datasets/Dataset_C2/12_channel/Test  e14079s3_P09216   \n..                                           ...              ...   \n333           datasets/Dataset_C2/12_channel/new  e19994s3_P54784   \n334           datasets/Dataset_C2/12_channel/new  e19993s9_P50176   \n335           datasets/Dataset_C2/12_channel/new  e20039s3_P33792   \n336           datasets/Dataset_C2/12_channel/new  e20059s3_P51200   \n337           datasets/Dataset_C2/12_channel/new  e20060s3_P59904   \n\n     Image X res  Image Y res  k space X res  k space Y res  Phases  Slices  \\\n0            256          256            256            218       1     170   \n1            256          256            256            218       1     170   \n2            256          256            256            218       1     170   \n3            256          256            256            218       1     170   \n4            256          256            256            218       1     170   \n..           ...          ...            ...            ...     ...     ...   \n333          256          256            256            218       1     170   \n334          256          256            256            218       1     170   \n335          256          256            256            218       1     170   \n336          256          256            256            218       1     170   \n337          256          256            256            218       1     170   \n\n     Echos  Channels   Scan date      TE        TI      TR  Flip angle  \\\n0        1        12  2018-05-23  2568.0  650000.0  6344.0         8.0   \n1        1        12  2018-05-27  2568.0  650000.0  6344.0         8.0   \n2        1        12  2018-05-27  2568.0  650000.0  6344.0         8.0   \n3        1        12  2018-05-27  2568.0  650000.0  6344.0         8.0   \n4        1        12  2018-06-10  2568.0  650000.0  6344.0         8.0   \n..     ...       ...         ...     ...       ...     ...         ...   \n333      1        12  2022-04-21  2584.0  650000.0  6380.0         8.0   \n334      1        12  2022-04-21  2584.0  650000.0  6380.0         8.0   \n335      1        12  2022-05-03  2584.0  650000.0  6380.0         8.0   \n336      1        12  2022-05-05  2584.0  650000.0  6380.0         8.0   \n337      1        12  2022-05-05  2584.0  650000.0  6380.0         8.0   \n\n        Type Patient ID  Relative scan date  Number of scan  \n0    phantom       TEST                 0.0             1.0  \n1    healthy    NORM469                 0.0             1.0  \n2    healthy    NORM316                 0.0             1.0  \n3    healthy    NORM306                 0.0             1.0  \n4    healthy    NORM339                 0.0             1.0  \n..       ...        ...                 ...             ...  \n333  healthy    NORM448                 0.0             1.0  \n334  healthy    NORM440                 0.0             1.0  \n335  healthy    NORM423                 0.0             1.0  \n336  healthy    NORM446                 0.0             1.0  \n337  healthy    NORM444                 0.0             1.0  \n\n[338 rows x 19 columns]",
      "text/html": "<div>\n<style scoped>\n    .dataframe tbody tr th:only-of-type {\n        vertical-align: middle;\n    }\n\n    .dataframe tbody tr th {\n        vertical-align: top;\n    }\n\n    .dataframe thead th {\n        text-align: right;\n    }\n</style>\n<table border=\"1\" class=\"dataframe\">\n  <thead>\n    <tr style=\"text-align: right;\">\n      <th></th>\n      <th>Relative path</th>\n      <th>File name</th>\n      <th>Image X res</th>\n      <th>Image Y res</th>\n      <th>k space X res</th>\n      <th>k space Y res</th>\n      <th>Phases</th>\n      <th>Slices</th>\n      <th>Echos</th>\n      <th>Channels</th>\n      <th>Scan date</th>\n      <th>TE</th>\n      <th>TI</th>\n      <th>TR</th>\n      <th>Flip angle</th>\n      <th>Type</th>\n      <th>Patient ID</th>\n      <th>Relative scan date</th>\n      <th>Number of scan</th>\n    </tr>\n  </thead>\n  <tbody>\n    <tr>\n      <th>0</th>\n      <td>datasets/Dataset_C2/12_channel/Test-phantom</td>\n      <td>e13970s4_P48128</td>\n      <td>256</td>\n      <td>256</td>\n      <td>256</td>\n      <td>218</td>\n      <td>1</td>\n      <td>170</td>\n      <td>1</td>\n      <td>12</td>\n      <td>2018-05-23</td>\n      <td>2568.0</td>\n      <td>650000.0</td>\n      <td>6344.0</td>\n      <td>8.0</td>\n      <td>phantom</td>\n      <td>TEST</td>\n      <td>0.0</td>\n      <td>1.0</td>\n    </tr>\n    <tr>\n      <th>1</th>\n      <td>datasets/Dataset_C2/12_channel/Test</td>\n      <td>e13992s4_P08704</td>\n      <td>256</td>\n      <td>256</td>\n      <td>256</td>\n      <td>218</td>\n      <td>1</td>\n      <td>170</td>\n      <td>1</td>\n      <td>12</td>\n      <td>2018-05-27</td>\n      <td>2568.0</td>\n      <td>650000.0</td>\n      <td>6344.0</td>\n      <td>8.0</td>\n      <td>healthy</td>\n      <td>NORM469</td>\n      <td>0.0</td>\n      <td>1.0</td>\n    </tr>\n    <tr>\n      <th>2</th>\n      <td>datasets/Dataset_C2/12_channel/Test</td>\n      <td>e13993s4_P16896</td>\n      <td>256</td>\n      <td>256</td>\n      <td>256</td>\n      <td>218</td>\n      <td>1</td>\n      <td>170</td>\n      <td>1</td>\n      <td>12</td>\n      <td>2018-05-27</td>\n      <td>2568.0</td>\n      <td>650000.0</td>\n      <td>6344.0</td>\n      <td>8.0</td>\n      <td>healthy</td>\n      <td>NORM316</td>\n      <td>0.0</td>\n      <td>1.0</td>\n    </tr>\n    <tr>\n      <th>3</th>\n      <td>datasets/Dataset_C2/12_channel/Test</td>\n      <td>e13991s3_P01536</td>\n      <td>256</td>\n      <td>256</td>\n      <td>256</td>\n      <td>218</td>\n      <td>1</td>\n      <td>170</td>\n      <td>1</td>\n      <td>12</td>\n      <td>2018-05-27</td>\n      <td>2568.0</td>\n      <td>650000.0</td>\n      <td>6344.0</td>\n      <td>8.0</td>\n      <td>healthy</td>\n      <td>NORM306</td>\n      <td>0.0</td>\n      <td>1.0</td>\n    </tr>\n    <tr>\n      <th>4</th>\n      <td>datasets/Dataset_C2/12_channel/Test</td>\n      <td>e14079s3_P09216</td>\n      <td>256</td>\n      <td>256</td>\n      <td>256</td>\n      <td>218</td>\n      <td>1</td>\n      <td>170</td>\n      <td>1</td>\n      <td>12</td>\n      <td>2018-06-10</td>\n      <td>2568.0</td>\n      <td>650000.0</td>\n      <td>6344.0</td>\n      <td>8.0</td>\n      <td>healthy</td>\n      <td>NORM339</td>\n      <td>0.0</td>\n      <td>1.0</td>\n    </tr>\n    <tr>\n      <th>...</th>\n      <td>...</td>\n      <td>...</td>\n      <td>...</td>\n      <td>...</td>\n      <td>...</td>\n      <td>...</td>\n      <td>...</td>\n      <td>...</td>\n      <td>...</td>\n      <td>...</td>\n      <td>...</td>\n      <td>...</td>\n      <td>...</td>\n      <td>...</td>\n      <td>...</td>\n      <td>...</td>\n      <td>...</td>\n      <td>...</td>\n      <td>...</td>\n    </tr>\n    <tr>\n      <th>333</th>\n      <td>datasets/Dataset_C2/12_channel/new</td>\n      <td>e19994s3_P54784</td>\n      <td>256</td>\n      <td>256</td>\n      <td>256</td>\n      <td>218</td>\n      <td>1</td>\n      <td>170</td>\n      <td>1</td>\n      <td>12</td>\n      <td>2022-04-21</td>\n      <td>2584.0</td>\n      <td>650000.0</td>\n      <td>6380.0</td>\n      <td>8.0</td>\n      <td>healthy</td>\n      <td>NORM448</td>\n      <td>0.0</td>\n      <td>1.0</td>\n    </tr>\n    <tr>\n      <th>334</th>\n      <td>datasets/Dataset_C2/12_channel/new</td>\n      <td>e19993s9_P50176</td>\n      <td>256</td>\n      <td>256</td>\n      <td>256</td>\n      <td>218</td>\n      <td>1</td>\n      <td>170</td>\n      <td>1</td>\n      <td>12</td>\n      <td>2022-04-21</td>\n      <td>2584.0</td>\n      <td>650000.0</td>\n      <td>6380.0</td>\n      <td>8.0</td>\n      <td>healthy</td>\n      <td>NORM440</td>\n      <td>0.0</td>\n      <td>1.0</td>\n    </tr>\n    <tr>\n      <th>335</th>\n      <td>datasets/Dataset_C2/12_channel/new</td>\n      <td>e20039s3_P33792</td>\n      <td>256</td>\n      <td>256</td>\n      <td>256</td>\n      <td>218</td>\n      <td>1</td>\n      <td>170</td>\n      <td>1</td>\n      <td>12</td>\n      <td>2022-05-03</td>\n      <td>2584.0</td>\n      <td>650000.0</td>\n      <td>6380.0</td>\n      <td>8.0</td>\n      <td>healthy</td>\n      <td>NORM423</td>\n      <td>0.0</td>\n      <td>1.0</td>\n    </tr>\n    <tr>\n      <th>336</th>\n      <td>datasets/Dataset_C2/12_channel/new</td>\n      <td>e20059s3_P51200</td>\n      <td>256</td>\n      <td>256</td>\n      <td>256</td>\n      <td>218</td>\n      <td>1</td>\n      <td>170</td>\n      <td>1</td>\n      <td>12</td>\n      <td>2022-05-05</td>\n      <td>2584.0</td>\n      <td>650000.0</td>\n      <td>6380.0</td>\n      <td>8.0</td>\n      <td>healthy</td>\n      <td>NORM446</td>\n      <td>0.0</td>\n      <td>1.0</td>\n    </tr>\n    <tr>\n      <th>337</th>\n      <td>datasets/Dataset_C2/12_channel/new</td>\n      <td>e20060s3_P59904</td>\n      <td>256</td>\n      <td>256</td>\n      <td>256</td>\n      <td>218</td>\n      <td>1</td>\n      <td>170</td>\n      <td>1</td>\n      <td>12</td>\n      <td>2022-05-05</td>\n      <td>2584.0</td>\n      <td>650000.0</td>\n      <td>6380.0</td>\n      <td>8.0</td>\n      <td>healthy</td>\n      <td>NORM444</td>\n      <td>0.0</td>\n      <td>1.0</td>\n    </tr>\n  </tbody>\n</table>\n<p>338 rows × 19 columns</p>\n</div>"
     },
     "execution_count": 71,
     "metadata": {},
     "output_type": "execute_result"
    }
   ],
   "source": [
    "data"
   ],
   "metadata": {
    "collapsed": false,
    "ExecuteTime": {
     "end_time": "2024-04-22T19:45:25.749059534Z",
     "start_time": "2024-04-22T19:45:25.745995997Z"
    }
   },
   "id": "e24beb6b4614317"
  },
  {
   "cell_type": "code",
   "execution_count": 72,
   "outputs": [
    {
     "name": "stdout",
     "output_type": "stream",
     "text": [
      "['NORM355', 'NORM345', 'NORM370', 'NORM360', 'NORM372', 'NORM138', 'NORM138', 'NORM138', 'NORM138', 'NORM138', 'NORM138', 'NORM138', 'NORM138', 'NORM352', 'NORM380', 'NORM100', 'NORM100', 'NORM100', 'NORM100', 'NORM361', 'NORM362', 'NORM313', 'NORM327', 'NORM340', 'NORM365', 'NORM382', 'NORM314', 'NORM330', 'NORM357', 'NORM316', 'NORM336', 'NORM347', 'NORM321', 'NORM338', 'NORM348', 'NORM377', 'NORM306', 'NORM324', 'NORM339']\n"
     ]
    }
   ],
   "source": [
    "import pandas as pd\n",
    "\n",
    "# Read the CSV file without the header\n",
    "df = pd.read_csv('/home/ai2lab/datasets/roberto/all_files.csv', header=None)\n",
    "\n",
    "# Extract the first column values\n",
    "first_column_values = df.iloc[:, 0]\n",
    "\n",
    "# Extract the 'NormXXX' part from the values\n",
    "norm_values = [value.split('_')[0] for value in first_column_values]\n",
    "\n",
    "# Print the list of 'NormXXX' values\n",
    "print(norm_values)"
   ],
   "metadata": {
    "collapsed": false,
    "ExecuteTime": {
     "end_time": "2024-04-22T19:45:26.599485697Z",
     "start_time": "2024-04-22T19:45:26.597304003Z"
    }
   },
   "id": "1df06854a1121e22"
  },
  {
   "cell_type": "code",
   "execution_count": 73,
   "outputs": [],
   "source": [
    "import pandas as pd\n",
    "\n",
    "# Read the CSV file\n",
    "df = pd.read_csv('csvs/meta.csv',index_col=None)\n",
    "\n",
    "# Create a new empty dataframe to store the selected rows\n",
    "new_df = pd.DataFrame()\n",
    "\n",
    "# Loop through the list of 'NormXXX' values\n",
    "for norm_value in norm_values:\n",
    "    # Filter the dataframe to get the rows where Patient ID matches the current 'NormXXX' value\n",
    "    filtered_df = df[df['Patient ID'] == norm_value]\n",
    "    # Check if the filtered dataframe is empty\n",
    "    if filtered_df.shape[0] == 0:\n",
    "        print(f\"No matches found for {norm_value}\")\n",
    "    else:\n",
    "        # Append the filtered rows to the new dataframe\n",
    "        new_df = pd.concat([new_df, filtered_df], ignore_index=True)\n",
    "\n",
    "# Write the new dataframe to a new CSV file\n",
    "# new_df.to_csv('/path/to/new/csv/file.csv', index=False)\n",
    "# new_df"
   ],
   "metadata": {
    "collapsed": false,
    "ExecuteTime": {
     "end_time": "2024-04-22T19:45:27.586425451Z",
     "start_time": "2024-04-22T19:45:27.580429709Z"
    }
   },
   "id": "859651a035a23c5b"
  },
  {
   "cell_type": "code",
   "execution_count": 74,
   "outputs": [
    {
     "data": {
      "text/plain": "                   0                  1\n0   NORM313_baseline  e14080s3_P18944.7\n1   NORM327_baseline  e14736s3_P55296.7\n2   NORM340_baseline  e15046s3_P59392.7\n3   NORM365_baseline  e15493s3_P16896.7\n4   NORM382_baseline  e15469s3_P42496.7\n5   NORM314_baseline  e14655s3_P61952.7\n6   NORM330_baseline  e14078s3_P02048.7\n7   NORM357_baseline  e15272s3_P07680.7\n8   NORM316_baseline  e13993s4_P16896.7\n9   NORM336_baseline  e16362s3_P07168.7\n10  NORM347_baseline  e15274s3_P20992.7\n11  NORM321_baseline  e14081s3_P25600.7\n12  NORM338_baseline  e14155s3_P69120.7\n13  NORM348_baseline  e15275s3_P27648.7\n14  NORM377_baseline  e15491s3_P01536.7\n15  NORM306_baseline  e13991s3_P01536.7\n16  NORM324_baseline  e14654s3_P55296.7\n17  NORM339_baseline  e14079s3_P09216.7",
      "text/html": "<div>\n<style scoped>\n    .dataframe tbody tr th:only-of-type {\n        vertical-align: middle;\n    }\n\n    .dataframe tbody tr th {\n        vertical-align: top;\n    }\n\n    .dataframe thead th {\n        text-align: right;\n    }\n</style>\n<table border=\"1\" class=\"dataframe\">\n  <thead>\n    <tr style=\"text-align: right;\">\n      <th></th>\n      <th>0</th>\n      <th>1</th>\n    </tr>\n  </thead>\n  <tbody>\n    <tr>\n      <th>0</th>\n      <td>NORM313_baseline</td>\n      <td>e14080s3_P18944.7</td>\n    </tr>\n    <tr>\n      <th>1</th>\n      <td>NORM327_baseline</td>\n      <td>e14736s3_P55296.7</td>\n    </tr>\n    <tr>\n      <th>2</th>\n      <td>NORM340_baseline</td>\n      <td>e15046s3_P59392.7</td>\n    </tr>\n    <tr>\n      <th>3</th>\n      <td>NORM365_baseline</td>\n      <td>e15493s3_P16896.7</td>\n    </tr>\n    <tr>\n      <th>4</th>\n      <td>NORM382_baseline</td>\n      <td>e15469s3_P42496.7</td>\n    </tr>\n    <tr>\n      <th>5</th>\n      <td>NORM314_baseline</td>\n      <td>e14655s3_P61952.7</td>\n    </tr>\n    <tr>\n      <th>6</th>\n      <td>NORM330_baseline</td>\n      <td>e14078s3_P02048.7</td>\n    </tr>\n    <tr>\n      <th>7</th>\n      <td>NORM357_baseline</td>\n      <td>e15272s3_P07680.7</td>\n    </tr>\n    <tr>\n      <th>8</th>\n      <td>NORM316_baseline</td>\n      <td>e13993s4_P16896.7</td>\n    </tr>\n    <tr>\n      <th>9</th>\n      <td>NORM336_baseline</td>\n      <td>e16362s3_P07168.7</td>\n    </tr>\n    <tr>\n      <th>10</th>\n      <td>NORM347_baseline</td>\n      <td>e15274s3_P20992.7</td>\n    </tr>\n    <tr>\n      <th>11</th>\n      <td>NORM321_baseline</td>\n      <td>e14081s3_P25600.7</td>\n    </tr>\n    <tr>\n      <th>12</th>\n      <td>NORM338_baseline</td>\n      <td>e14155s3_P69120.7</td>\n    </tr>\n    <tr>\n      <th>13</th>\n      <td>NORM348_baseline</td>\n      <td>e15275s3_P27648.7</td>\n    </tr>\n    <tr>\n      <th>14</th>\n      <td>NORM377_baseline</td>\n      <td>e15491s3_P01536.7</td>\n    </tr>\n    <tr>\n      <th>15</th>\n      <td>NORM306_baseline</td>\n      <td>e13991s3_P01536.7</td>\n    </tr>\n    <tr>\n      <th>16</th>\n      <td>NORM324_baseline</td>\n      <td>e14654s3_P55296.7</td>\n    </tr>\n    <tr>\n      <th>17</th>\n      <td>NORM339_baseline</td>\n      <td>e14079s3_P09216.7</td>\n    </tr>\n  </tbody>\n</table>\n</div>"
     },
     "execution_count": 74,
     "metadata": {},
     "output_type": "execute_result"
    }
   ],
   "source": [
    "df1"
   ],
   "metadata": {
    "collapsed": false,
    "ExecuteTime": {
     "end_time": "2024-04-22T19:45:28.469860641Z",
     "start_time": "2024-04-22T19:45:28.467209688Z"
    }
   },
   "id": "67fd6b65e9f2109f"
  },
  {
   "cell_type": "code",
   "execution_count": 79,
   "outputs": [],
   "source": [
    "import pandas as pd\n",
    "\n",
    "# Read the first CSV file\n",
    "df1 =pd.read_csv('/home/ai2lab/datasets/roberto/all_files.csv', header=None)\n",
    "\n",
    "# Read the second CSV file\n",
    "df2 = pd.read_csv('csvs/meta.csv',index_col=None)\n",
    "\n",
    "# Create a new empty dataframe to store the selected rows\n",
    "mv_df = pd.DataFrame()\n",
    "\n",
    "# Loop through the list of 'NormXXX' values\n",
    "for index, row in df1.iterrows():\n",
    "    filename = row[1].split('.')[0]  # Remove the trailing .7\n",
    "    # Filter the second dataframe to get the rows where File name matches the current filename\n",
    "    filtered_df = df2[df2['File name'] == filename]\n",
    "    # Check if the filtered dataframe is empty\n",
    "    if filtered_df.shape[0] == 0:\n",
    "        print(f\"No matches found for {filename}\")\n",
    "    else:\n",
    "        # Append the filtered rows to the new dataframe\n",
    "        mv_df = pd.concat([mv_df, filtered_df], ignore_index=True)\n",
    "\n",
    "# Write the new dataframe to a new CSV file\n",
    "mv_df.to_csv('csvs/mv.csv', index=False)"
   ],
   "metadata": {
    "collapsed": false,
    "ExecuteTime": {
     "end_time": "2024-04-22T20:31:00.044334168Z",
     "start_time": "2024-04-22T20:30:59.990163231Z"
    }
   },
   "id": "e7d1fc8a0113e3e"
  },
  {
   "cell_type": "code",
   "execution_count": 76,
   "outputs": [
    {
     "data": {
      "text/plain": "'e14079s3_P09216'"
     },
     "execution_count": 76,
     "metadata": {},
     "output_type": "execute_result"
    }
   ],
   "source": [],
   "metadata": {
    "collapsed": false,
    "ExecuteTime": {
     "end_time": "2024-04-22T19:46:07.089776712Z",
     "start_time": "2024-04-22T19:46:07.041071751Z"
    }
   },
   "id": "fb2a1c0e41877b2a"
  },
  {
   "cell_type": "code",
   "execution_count": 51,
   "outputs": [
    {
     "data": {
      "text/plain": "                            Relative path         File name  Image X res  \\\n44     datasets/Dataset_C2/12_channel/Val   e14531s6_P68096          256   \n46   datasets/Dataset_C2/12_channel/Train   e14537s3_P14336          256   \n47    datasets/Dataset_C2/12_channel/Test   e14553s5_P44544          256   \n50    datasets/Dataset_C2/12_channel/Test   e14618s3_P51200          256   \n51    datasets/Dataset_C2/12_channel/Test   e14654s3_P55296          256   \n52    datasets/Dataset_C2/12_channel/Test   e14655s3_P61952          256   \n55    datasets/Dataset_C2/12_channel/Test   e14736s3_P55296          256   \n56    datasets/Dataset_C2/12_channel/Test   e14742s3_P32768          256   \n57    datasets/Dataset_C2/12_channel/Test   e14781s3_P18944          256   \n58    datasets/Dataset_C2/12_channel/Test   e14939s3_P44032          256   \n59    datasets/Dataset_C2/12_channel/Test   e15046s3_P59392          256   \n60   datasets/Dataset_C2/12_channel/Train   e15135s4_P48640          256   \n61   datasets/Dataset_C2/12_channel/Train   e15184s3_P58880          256   \n62     datasets/Dataset_C2/12_channel/Val   e15183s3_P52224          256   \n63     datasets/Dataset_C2/12_channel/Val   e15197s3_P53760          256   \n64   datasets/Dataset_C2/12_channel/Train   e15198s3_P61952          256   \n65   datasets/Dataset_C2/12_channel/Train   e15195s3_P39424          256   \n66    datasets/Dataset_C2/12_channel/Test   e15272s3_P07680          256   \n67    datasets/Dataset_C2/12_channel/Test   e15275s3_P27648          256   \n68    datasets/Dataset_C2/12_channel/Test   e15274s3_P20992          256   \n69    datasets/Dataset_C2/12_channel/Test   e15390s3_P12288          256   \n70    datasets/Dataset_C2/12_channel/Test   e15465s3_P13824          256   \n71    datasets/Dataset_C2/12_channel/Test   e15469s3_P42496          256   \n72    datasets/Dataset_C2/12_channel/Test   e15491s3_P01536          256   \n73    datasets/Dataset_C2/12_channel/Test   e15493s3_P16896          256   \n74   datasets/Dataset_C2/12_channel/Train   e15494s3_P24064          256   \n75     datasets/Dataset_C2/12_channel/Val   e15521s3_P33280          256   \n76   datasets/Dataset_C2/12_channel/Train   e15523s3_P52224          256   \n77   datasets/Dataset_C2/12_channel/Train  e15578s13_P08192          256   \n78   datasets/Dataset_C2/12_channel/Train   e15581s3_P27136          256   \n79   datasets/Dataset_C2/12_channel/Train   e15598s3_P54784          256   \n80    datasets/Dataset_C2/12_channel/Test   e15613s4_P52736          256   \n81    datasets/Dataset_C2/12_channel/Test   e15642s3_P48640          256   \n84    datasets/Dataset_C2/12_channel/Test   e15691s3_P47104          256   \n89    datasets/Dataset_C2/12_channel/Test   e15790s3_P01536          256   \n90    datasets/Dataset_C2/12_channel/Test   e15791s4_P11264          256   \n91    datasets/Dataset_C2/12_channel/Test   e15793s3_P25600          256   \n114   datasets/Dataset_C2/12_channel/Test   e16284s3_P25088          256   \n118   datasets/Dataset_C2/12_channel/Test   e16362s3_P07168          256   \n163  datasets/Dataset_C2/12_channel/Train   e16971s3_P23040          256   \n164  datasets/Dataset_C2/12_channel/Train   e16972s3_P31232          256   \n319    datasets/Dataset_C2/12_channel/new   e19850s3_P09728          256   \n320    datasets/Dataset_C2/12_channel/new   e19861s3_P16384          256   \n321    datasets/Dataset_C2/12_channel/new   e19864s3_P17408          256   \n322    datasets/Dataset_C2/12_channel/new   e19869s3_P60928          256   \n323    datasets/Dataset_C2/12_channel/new   e19870s3_P70656          256   \n324    datasets/Dataset_C2/12_channel/new   e19890s3_P36352          256   \n326    datasets/Dataset_C2/12_channel/new   e19928s3_P17408          256   \n327    datasets/Dataset_C2/12_channel/new   e19933s5_P59904          256   \n328    datasets/Dataset_C2/12_channel/new   e19932s3_P49664          256   \n329    datasets/Dataset_C2/12_channel/new   e19961s3_P20480          256   \n330    datasets/Dataset_C2/12_channel/new   e19963s3_P39936          256   \n331    datasets/Dataset_C2/12_channel/new   e19967s4_P16896          256   \n332    datasets/Dataset_C2/12_channel/new   e19977s3_P37888          256   \n333    datasets/Dataset_C2/12_channel/new   e19994s3_P54784          256   \n334    datasets/Dataset_C2/12_channel/new   e19993s9_P50176          256   \n335    datasets/Dataset_C2/12_channel/new   e20039s3_P33792          256   \n336    datasets/Dataset_C2/12_channel/new   e20059s3_P51200          256   \n337    datasets/Dataset_C2/12_channel/new   e20060s3_P59904          256   \n\n     Image Y res  k space X res  k space Y res  Phases  Slices  Echos  \\\n44           256            256            218       1     170      1   \n46           256            256            218       1     170      1   \n47           256            256            218       1     170      1   \n50           256            256            218       1     170      1   \n51           256            256            218       1     170      1   \n52           256            256            218       1     170      1   \n55           256            256            218       1     170      1   \n56           256            256            218       1     170      1   \n57           256            256            218       1     170      1   \n58           256            256            218       1     170      1   \n59           256            256            218       1     170      1   \n60           256            256            218       1     170      1   \n61           256            256            218       1     170      1   \n62           256            256            218       1     170      1   \n63           256            256            218       1     170      1   \n64           256            256            218       1     170      1   \n65           256            256            218       1     170      1   \n66           256            256            218       1     170      1   \n67           256            256            218       1     170      1   \n68           256            256            218       1     180      1   \n69           256            256            218       1     170      1   \n70           256            256            218       1     180      1   \n71           256            256            218       1     170      1   \n72           256            256            218       1     170      1   \n73           256            256            218       1     170      1   \n74           256            256            218       1     170      1   \n75           256            256            218       1     180      1   \n76           256            256            218       1     170      1   \n77           256            256            218       1     180      1   \n78           256            256            218       1     170      1   \n79           256            256            218       1     170      1   \n80           256            256            218       1     180      1   \n81           256            256            218       1     180      1   \n84           256            256            218       1     180      1   \n89           256            256            218       1     180      1   \n90           256            256            218       1     170      1   \n91           256            256            218       1     170      1   \n114          256            256            218       1     180      1   \n118          256            256            218       1     170      1   \n163          256            256            218       1     180      1   \n164          256            256            218       1     180      1   \n319          256            256            218       1     170      1   \n320          256            256            218       1     170      1   \n321          256            256            218       1     170      1   \n322          256            256            218       1     170      1   \n323          256            256            218       1     170      1   \n324          256            256            218       1     170      1   \n326          256            256            218       1     170      1   \n327          256            256            218       1     170      1   \n328          256            256            218       1     170      1   \n329          256            256            218       1     170      1   \n330          256            256            218       1     170      1   \n331          256            256            218       1     170      1   \n332          256            256            218       1     170      1   \n333          256            256            218       1     170      1   \n334          256            256            218       1     170      1   \n335          256            256            218       1     170      1   \n336          256            256            218       1     170      1   \n337          256            256            218       1     170      1   \n\n     Channels   Scan date      TE        TI      TR  Flip angle     Type  \\\n44         12  2018-08-15  2568.0  650000.0  6344.0         8.0  healthy   \n46         12  2018-08-16  2568.0  650000.0  6344.0         8.0  healthy   \n47         12  2018-08-17  2568.0  650000.0  6344.0         8.0  healthy   \n50         12  2018-08-29  2568.0  650000.0  6344.0         8.0  healthy   \n51         12  2018-09-04  2568.0  650000.0  6344.0         8.0  healthy   \n52         12  2018-09-04  2568.0  650000.0  6344.0         8.0  healthy   \n55         12  2018-09-17  2568.0  650000.0  6344.0         8.0  healthy   \n56         12  2018-09-18  2568.0  650000.0  6344.0         8.0  healthy   \n57         12  2018-09-24  2568.0  650000.0  6344.0         8.0  healthy   \n58         12  2018-10-17  2568.0  650000.0  6344.0         8.0  healthy   \n59         12  2018-10-31  2568.0  650000.0  6344.0         8.0  healthy   \n60         12  2018-11-20  2568.0  650000.0  6344.0         8.0  healthy   \n61         12  2018-11-27  2568.0  650000.0  6344.0         8.0  healthy   \n62         12  2018-11-27  2568.0  650000.0  6344.0         8.0  healthy   \n63         12  2018-11-28  2568.0  650000.0  6344.0         8.0  healthy   \n64         12  2018-11-28  2568.0  650000.0  6344.0         8.0  healthy   \n65         12  2018-11-28  2568.0  650000.0  6344.0         8.0  healthy   \n66         12  2018-12-09  2568.0  650000.0  6344.0         8.0  healthy   \n67         12  2018-12-09  2568.0  650000.0  6344.0         8.0  healthy   \n68         12  2018-12-09  2568.0  650000.0  6344.0         8.0  healthy   \n69         12  2019-01-04  2568.0  650000.0  6344.0         8.0  healthy   \n70         12  2019-01-15  3056.0  400000.0  7376.0        10.0  healthy   \n71         12  2019-01-15  2568.0  650000.0  6344.0         8.0  healthy   \n72         12  2019-01-20  2568.0  650000.0  6344.0         8.0  healthy   \n73         12  2019-01-20  2568.0  650000.0  6344.0         8.0  healthy   \n74         12  2019-01-20  2568.0  650000.0  6344.0         8.0  healthy   \n75         12  2019-01-24  3056.0  400000.0  7376.0        10.0  healthy   \n76         12  2019-01-24  2568.0  650000.0  6344.0         8.0  healthy   \n77         12  2019-02-02  3056.0  400000.0  7376.0        10.0  healthy   \n78         12  2019-02-02  2568.0  650000.0  6344.0         8.0  healthy   \n79         12  2019-02-05  2568.0  650000.0  6344.0         8.0  healthy   \n80         12  2019-02-07  3056.0  400000.0  7376.0        10.0  healthy   \n81         12  2019-02-13  3056.0  400000.0  7376.0        10.0  healthy   \n84         12  2019-02-21  3056.0  400000.0  7376.0        10.0  healthy   \n89         12  2019-03-10  3056.0  400000.0  7376.0        10.0  healthy   \n90         12  2019-03-10  2568.0  650000.0  6344.0         8.0  healthy   \n91         12  2019-03-10  2568.0  650000.0  6344.0         8.0  healthy   \n114        12  2019-05-23  3056.0  400000.0  7376.0        10.0  healthy   \n118        12  2019-06-04  2568.0  650000.0  6344.0         8.0  healthy   \n163        12  2019-09-25  3056.0  400000.0  7376.0        10.0  healthy   \n164        12  2019-09-25  3056.0  400000.0  7376.0        10.0  healthy   \n319        12  2022-03-17  2584.0  650000.0  6380.0         8.0  healthy   \n320        12  2022-03-21  2584.0  650000.0  6380.0         8.0  healthy   \n321        12  2022-03-22  2584.0  650000.0  6380.0         8.0  healthy   \n322        12  2022-03-23  2584.0  650000.0  6380.0         8.0  healthy   \n323        12  2022-03-23  2584.0  650000.0  6380.0         8.0  healthy   \n324        12  2022-03-28  2584.0  650000.0  6380.0         8.0  healthy   \n326        12  2022-04-06  2584.0  650000.0  6380.0         8.0  healthy   \n327        12  2022-04-07  2584.0  650000.0  6380.0         8.0  healthy   \n328        12  2022-04-07  2584.0  650000.0  6380.0         8.0  healthy   \n329        12  2022-04-13  2584.0  650000.0  6380.0         8.0  healthy   \n330        12  2022-04-13  2584.0  650000.0  6380.0         8.0  healthy   \n331        12  2022-04-14  2584.0  650000.0  6380.0         8.0  healthy   \n332        12  2022-04-18  2584.0  650000.0  6380.0         8.0  healthy   \n333        12  2022-04-21  2584.0  650000.0  6380.0         8.0  healthy   \n334        12  2022-04-21  2584.0  650000.0  6380.0         8.0  healthy   \n335        12  2022-05-03  2584.0  650000.0  6380.0         8.0  healthy   \n336        12  2022-05-05  2584.0  650000.0  6380.0         8.0  healthy   \n337        12  2022-05-05  2584.0  650000.0  6380.0         8.0  healthy   \n\n    Patient ID  Relative scan date  Number of scan  \n44     NORM484                 0.0             1.0  \n46     NORM346                 0.0             1.0  \n47     NORM490                 0.0             1.0  \n50     NORM495                 0.0             1.0  \n51     NORM324                 0.0             1.0  \n52     NORM314                 0.0             1.0  \n55     NORM327                 0.0             1.0  \n56     NORM496                 0.0             1.0  \n57     NORM497                 0.0             1.0  \n58     NORM472                 0.0             1.0  \n59     NORM340                 0.0             1.0  \n60     NORM372                 0.0             1.0  \n61     NORM500                 0.0             1.0  \n62     NORM362                 0.0             1.0  \n63     NORM361                 0.0             1.0  \n64     NORM360                 0.0             1.0  \n65     NORM355                 0.0             1.0  \n66     NORM357                 0.0             1.0  \n67     NORM348                 0.0             1.0  \n68     NORM347                 0.0             1.0  \n69     NORM354                 0.0             1.0  \n70     NORM501                 0.0             1.0  \n71     NORM382                 0.0             1.0  \n72     NORM377                 0.0             1.0  \n73     NORM365                 0.0             1.0  \n74     NORM352                 0.0             1.0  \n75     NORM605                 0.0             1.0  \n76     NORM370                 0.0             1.0  \n77     NORM602                 0.0             1.0  \n78     NORM345                 0.0             1.0  \n79     NORM380                 0.0             1.0  \n80     NORM608                 0.0             1.0  \n81     NORM611                 0.0             1.0  \n84     NORM612                 0.0             1.0  \n89     NORM610                 0.0             1.0  \n90     NORM349                 0.0             1.0  \n91     NORM344                 0.0             1.0  \n114    NORM628                 0.0             1.0  \n118    NORM336                 0.0             1.0  \n163    NORM710                 0.0             1.0  \n164    NORM709                 0.0             1.0  \n319    NORM414                 0.0             1.0  \n320    NORM406                 0.0             1.0  \n321    NORM422                 0.0             1.0  \n322    NORM438                 0.0             1.0  \n323    NORM410                 0.0             1.0  \n324    NORM424                 0.0             1.0  \n326    NORM426                 0.0             1.0  \n327    NORM441                 0.0             1.0  \n328    NORM421                 0.0             1.0  \n329    NORM411                 0.0             1.0  \n330    NORM404                 0.0             1.0  \n331    NORM435                 0.0             1.0  \n332    NROM405                 0.0             1.0  \n333    NORM448                 0.0             1.0  \n334    NORM440                 0.0             1.0  \n335    NORM423                 0.0             1.0  \n336    NORM446                 0.0             1.0  \n337    NORM444                 0.0             1.0  ",
      "text/html": "<div>\n<style scoped>\n    .dataframe tbody tr th:only-of-type {\n        vertical-align: middle;\n    }\n\n    .dataframe tbody tr th {\n        vertical-align: top;\n    }\n\n    .dataframe thead th {\n        text-align: right;\n    }\n</style>\n<table border=\"1\" class=\"dataframe\">\n  <thead>\n    <tr style=\"text-align: right;\">\n      <th></th>\n      <th>Relative path</th>\n      <th>File name</th>\n      <th>Image X res</th>\n      <th>Image Y res</th>\n      <th>k space X res</th>\n      <th>k space Y res</th>\n      <th>Phases</th>\n      <th>Slices</th>\n      <th>Echos</th>\n      <th>Channels</th>\n      <th>Scan date</th>\n      <th>TE</th>\n      <th>TI</th>\n      <th>TR</th>\n      <th>Flip angle</th>\n      <th>Type</th>\n      <th>Patient ID</th>\n      <th>Relative scan date</th>\n      <th>Number of scan</th>\n    </tr>\n  </thead>\n  <tbody>\n    <tr>\n      <th>44</th>\n      <td>datasets/Dataset_C2/12_channel/Val</td>\n      <td>e14531s6_P68096</td>\n      <td>256</td>\n      <td>256</td>\n      <td>256</td>\n      <td>218</td>\n      <td>1</td>\n      <td>170</td>\n      <td>1</td>\n      <td>12</td>\n      <td>2018-08-15</td>\n      <td>2568.0</td>\n      <td>650000.0</td>\n      <td>6344.0</td>\n      <td>8.0</td>\n      <td>healthy</td>\n      <td>NORM484</td>\n      <td>0.0</td>\n      <td>1.0</td>\n    </tr>\n    <tr>\n      <th>46</th>\n      <td>datasets/Dataset_C2/12_channel/Train</td>\n      <td>e14537s3_P14336</td>\n      <td>256</td>\n      <td>256</td>\n      <td>256</td>\n      <td>218</td>\n      <td>1</td>\n      <td>170</td>\n      <td>1</td>\n      <td>12</td>\n      <td>2018-08-16</td>\n      <td>2568.0</td>\n      <td>650000.0</td>\n      <td>6344.0</td>\n      <td>8.0</td>\n      <td>healthy</td>\n      <td>NORM346</td>\n      <td>0.0</td>\n      <td>1.0</td>\n    </tr>\n    <tr>\n      <th>47</th>\n      <td>datasets/Dataset_C2/12_channel/Test</td>\n      <td>e14553s5_P44544</td>\n      <td>256</td>\n      <td>256</td>\n      <td>256</td>\n      <td>218</td>\n      <td>1</td>\n      <td>170</td>\n      <td>1</td>\n      <td>12</td>\n      <td>2018-08-17</td>\n      <td>2568.0</td>\n      <td>650000.0</td>\n      <td>6344.0</td>\n      <td>8.0</td>\n      <td>healthy</td>\n      <td>NORM490</td>\n      <td>0.0</td>\n      <td>1.0</td>\n    </tr>\n    <tr>\n      <th>50</th>\n      <td>datasets/Dataset_C2/12_channel/Test</td>\n      <td>e14618s3_P51200</td>\n      <td>256</td>\n      <td>256</td>\n      <td>256</td>\n      <td>218</td>\n      <td>1</td>\n      <td>170</td>\n      <td>1</td>\n      <td>12</td>\n      <td>2018-08-29</td>\n      <td>2568.0</td>\n      <td>650000.0</td>\n      <td>6344.0</td>\n      <td>8.0</td>\n      <td>healthy</td>\n      <td>NORM495</td>\n      <td>0.0</td>\n      <td>1.0</td>\n    </tr>\n    <tr>\n      <th>51</th>\n      <td>datasets/Dataset_C2/12_channel/Test</td>\n      <td>e14654s3_P55296</td>\n      <td>256</td>\n      <td>256</td>\n      <td>256</td>\n      <td>218</td>\n      <td>1</td>\n      <td>170</td>\n      <td>1</td>\n      <td>12</td>\n      <td>2018-09-04</td>\n      <td>2568.0</td>\n      <td>650000.0</td>\n      <td>6344.0</td>\n      <td>8.0</td>\n      <td>healthy</td>\n      <td>NORM324</td>\n      <td>0.0</td>\n      <td>1.0</td>\n    </tr>\n    <tr>\n      <th>52</th>\n      <td>datasets/Dataset_C2/12_channel/Test</td>\n      <td>e14655s3_P61952</td>\n      <td>256</td>\n      <td>256</td>\n      <td>256</td>\n      <td>218</td>\n      <td>1</td>\n      <td>170</td>\n      <td>1</td>\n      <td>12</td>\n      <td>2018-09-04</td>\n      <td>2568.0</td>\n      <td>650000.0</td>\n      <td>6344.0</td>\n      <td>8.0</td>\n      <td>healthy</td>\n      <td>NORM314</td>\n      <td>0.0</td>\n      <td>1.0</td>\n    </tr>\n    <tr>\n      <th>55</th>\n      <td>datasets/Dataset_C2/12_channel/Test</td>\n      <td>e14736s3_P55296</td>\n      <td>256</td>\n      <td>256</td>\n      <td>256</td>\n      <td>218</td>\n      <td>1</td>\n      <td>170</td>\n      <td>1</td>\n      <td>12</td>\n      <td>2018-09-17</td>\n      <td>2568.0</td>\n      <td>650000.0</td>\n      <td>6344.0</td>\n      <td>8.0</td>\n      <td>healthy</td>\n      <td>NORM327</td>\n      <td>0.0</td>\n      <td>1.0</td>\n    </tr>\n    <tr>\n      <th>56</th>\n      <td>datasets/Dataset_C2/12_channel/Test</td>\n      <td>e14742s3_P32768</td>\n      <td>256</td>\n      <td>256</td>\n      <td>256</td>\n      <td>218</td>\n      <td>1</td>\n      <td>170</td>\n      <td>1</td>\n      <td>12</td>\n      <td>2018-09-18</td>\n      <td>2568.0</td>\n      <td>650000.0</td>\n      <td>6344.0</td>\n      <td>8.0</td>\n      <td>healthy</td>\n      <td>NORM496</td>\n      <td>0.0</td>\n      <td>1.0</td>\n    </tr>\n    <tr>\n      <th>57</th>\n      <td>datasets/Dataset_C2/12_channel/Test</td>\n      <td>e14781s3_P18944</td>\n      <td>256</td>\n      <td>256</td>\n      <td>256</td>\n      <td>218</td>\n      <td>1</td>\n      <td>170</td>\n      <td>1</td>\n      <td>12</td>\n      <td>2018-09-24</td>\n      <td>2568.0</td>\n      <td>650000.0</td>\n      <td>6344.0</td>\n      <td>8.0</td>\n      <td>healthy</td>\n      <td>NORM497</td>\n      <td>0.0</td>\n      <td>1.0</td>\n    </tr>\n    <tr>\n      <th>58</th>\n      <td>datasets/Dataset_C2/12_channel/Test</td>\n      <td>e14939s3_P44032</td>\n      <td>256</td>\n      <td>256</td>\n      <td>256</td>\n      <td>218</td>\n      <td>1</td>\n      <td>170</td>\n      <td>1</td>\n      <td>12</td>\n      <td>2018-10-17</td>\n      <td>2568.0</td>\n      <td>650000.0</td>\n      <td>6344.0</td>\n      <td>8.0</td>\n      <td>healthy</td>\n      <td>NORM472</td>\n      <td>0.0</td>\n      <td>1.0</td>\n    </tr>\n    <tr>\n      <th>59</th>\n      <td>datasets/Dataset_C2/12_channel/Test</td>\n      <td>e15046s3_P59392</td>\n      <td>256</td>\n      <td>256</td>\n      <td>256</td>\n      <td>218</td>\n      <td>1</td>\n      <td>170</td>\n      <td>1</td>\n      <td>12</td>\n      <td>2018-10-31</td>\n      <td>2568.0</td>\n      <td>650000.0</td>\n      <td>6344.0</td>\n      <td>8.0</td>\n      <td>healthy</td>\n      <td>NORM340</td>\n      <td>0.0</td>\n      <td>1.0</td>\n    </tr>\n    <tr>\n      <th>60</th>\n      <td>datasets/Dataset_C2/12_channel/Train</td>\n      <td>e15135s4_P48640</td>\n      <td>256</td>\n      <td>256</td>\n      <td>256</td>\n      <td>218</td>\n      <td>1</td>\n      <td>170</td>\n      <td>1</td>\n      <td>12</td>\n      <td>2018-11-20</td>\n      <td>2568.0</td>\n      <td>650000.0</td>\n      <td>6344.0</td>\n      <td>8.0</td>\n      <td>healthy</td>\n      <td>NORM372</td>\n      <td>0.0</td>\n      <td>1.0</td>\n    </tr>\n    <tr>\n      <th>61</th>\n      <td>datasets/Dataset_C2/12_channel/Train</td>\n      <td>e15184s3_P58880</td>\n      <td>256</td>\n      <td>256</td>\n      <td>256</td>\n      <td>218</td>\n      <td>1</td>\n      <td>170</td>\n      <td>1</td>\n      <td>12</td>\n      <td>2018-11-27</td>\n      <td>2568.0</td>\n      <td>650000.0</td>\n      <td>6344.0</td>\n      <td>8.0</td>\n      <td>healthy</td>\n      <td>NORM500</td>\n      <td>0.0</td>\n      <td>1.0</td>\n    </tr>\n    <tr>\n      <th>62</th>\n      <td>datasets/Dataset_C2/12_channel/Val</td>\n      <td>e15183s3_P52224</td>\n      <td>256</td>\n      <td>256</td>\n      <td>256</td>\n      <td>218</td>\n      <td>1</td>\n      <td>170</td>\n      <td>1</td>\n      <td>12</td>\n      <td>2018-11-27</td>\n      <td>2568.0</td>\n      <td>650000.0</td>\n      <td>6344.0</td>\n      <td>8.0</td>\n      <td>healthy</td>\n      <td>NORM362</td>\n      <td>0.0</td>\n      <td>1.0</td>\n    </tr>\n    <tr>\n      <th>63</th>\n      <td>datasets/Dataset_C2/12_channel/Val</td>\n      <td>e15197s3_P53760</td>\n      <td>256</td>\n      <td>256</td>\n      <td>256</td>\n      <td>218</td>\n      <td>1</td>\n      <td>170</td>\n      <td>1</td>\n      <td>12</td>\n      <td>2018-11-28</td>\n      <td>2568.0</td>\n      <td>650000.0</td>\n      <td>6344.0</td>\n      <td>8.0</td>\n      <td>healthy</td>\n      <td>NORM361</td>\n      <td>0.0</td>\n      <td>1.0</td>\n    </tr>\n    <tr>\n      <th>64</th>\n      <td>datasets/Dataset_C2/12_channel/Train</td>\n      <td>e15198s3_P61952</td>\n      <td>256</td>\n      <td>256</td>\n      <td>256</td>\n      <td>218</td>\n      <td>1</td>\n      <td>170</td>\n      <td>1</td>\n      <td>12</td>\n      <td>2018-11-28</td>\n      <td>2568.0</td>\n      <td>650000.0</td>\n      <td>6344.0</td>\n      <td>8.0</td>\n      <td>healthy</td>\n      <td>NORM360</td>\n      <td>0.0</td>\n      <td>1.0</td>\n    </tr>\n    <tr>\n      <th>65</th>\n      <td>datasets/Dataset_C2/12_channel/Train</td>\n      <td>e15195s3_P39424</td>\n      <td>256</td>\n      <td>256</td>\n      <td>256</td>\n      <td>218</td>\n      <td>1</td>\n      <td>170</td>\n      <td>1</td>\n      <td>12</td>\n      <td>2018-11-28</td>\n      <td>2568.0</td>\n      <td>650000.0</td>\n      <td>6344.0</td>\n      <td>8.0</td>\n      <td>healthy</td>\n      <td>NORM355</td>\n      <td>0.0</td>\n      <td>1.0</td>\n    </tr>\n    <tr>\n      <th>66</th>\n      <td>datasets/Dataset_C2/12_channel/Test</td>\n      <td>e15272s3_P07680</td>\n      <td>256</td>\n      <td>256</td>\n      <td>256</td>\n      <td>218</td>\n      <td>1</td>\n      <td>170</td>\n      <td>1</td>\n      <td>12</td>\n      <td>2018-12-09</td>\n      <td>2568.0</td>\n      <td>650000.0</td>\n      <td>6344.0</td>\n      <td>8.0</td>\n      <td>healthy</td>\n      <td>NORM357</td>\n      <td>0.0</td>\n      <td>1.0</td>\n    </tr>\n    <tr>\n      <th>67</th>\n      <td>datasets/Dataset_C2/12_channel/Test</td>\n      <td>e15275s3_P27648</td>\n      <td>256</td>\n      <td>256</td>\n      <td>256</td>\n      <td>218</td>\n      <td>1</td>\n      <td>170</td>\n      <td>1</td>\n      <td>12</td>\n      <td>2018-12-09</td>\n      <td>2568.0</td>\n      <td>650000.0</td>\n      <td>6344.0</td>\n      <td>8.0</td>\n      <td>healthy</td>\n      <td>NORM348</td>\n      <td>0.0</td>\n      <td>1.0</td>\n    </tr>\n    <tr>\n      <th>68</th>\n      <td>datasets/Dataset_C2/12_channel/Test</td>\n      <td>e15274s3_P20992</td>\n      <td>256</td>\n      <td>256</td>\n      <td>256</td>\n      <td>218</td>\n      <td>1</td>\n      <td>180</td>\n      <td>1</td>\n      <td>12</td>\n      <td>2018-12-09</td>\n      <td>2568.0</td>\n      <td>650000.0</td>\n      <td>6344.0</td>\n      <td>8.0</td>\n      <td>healthy</td>\n      <td>NORM347</td>\n      <td>0.0</td>\n      <td>1.0</td>\n    </tr>\n    <tr>\n      <th>69</th>\n      <td>datasets/Dataset_C2/12_channel/Test</td>\n      <td>e15390s3_P12288</td>\n      <td>256</td>\n      <td>256</td>\n      <td>256</td>\n      <td>218</td>\n      <td>1</td>\n      <td>170</td>\n      <td>1</td>\n      <td>12</td>\n      <td>2019-01-04</td>\n      <td>2568.0</td>\n      <td>650000.0</td>\n      <td>6344.0</td>\n      <td>8.0</td>\n      <td>healthy</td>\n      <td>NORM354</td>\n      <td>0.0</td>\n      <td>1.0</td>\n    </tr>\n    <tr>\n      <th>70</th>\n      <td>datasets/Dataset_C2/12_channel/Test</td>\n      <td>e15465s3_P13824</td>\n      <td>256</td>\n      <td>256</td>\n      <td>256</td>\n      <td>218</td>\n      <td>1</td>\n      <td>180</td>\n      <td>1</td>\n      <td>12</td>\n      <td>2019-01-15</td>\n      <td>3056.0</td>\n      <td>400000.0</td>\n      <td>7376.0</td>\n      <td>10.0</td>\n      <td>healthy</td>\n      <td>NORM501</td>\n      <td>0.0</td>\n      <td>1.0</td>\n    </tr>\n    <tr>\n      <th>71</th>\n      <td>datasets/Dataset_C2/12_channel/Test</td>\n      <td>e15469s3_P42496</td>\n      <td>256</td>\n      <td>256</td>\n      <td>256</td>\n      <td>218</td>\n      <td>1</td>\n      <td>170</td>\n      <td>1</td>\n      <td>12</td>\n      <td>2019-01-15</td>\n      <td>2568.0</td>\n      <td>650000.0</td>\n      <td>6344.0</td>\n      <td>8.0</td>\n      <td>healthy</td>\n      <td>NORM382</td>\n      <td>0.0</td>\n      <td>1.0</td>\n    </tr>\n    <tr>\n      <th>72</th>\n      <td>datasets/Dataset_C2/12_channel/Test</td>\n      <td>e15491s3_P01536</td>\n      <td>256</td>\n      <td>256</td>\n      <td>256</td>\n      <td>218</td>\n      <td>1</td>\n      <td>170</td>\n      <td>1</td>\n      <td>12</td>\n      <td>2019-01-20</td>\n      <td>2568.0</td>\n      <td>650000.0</td>\n      <td>6344.0</td>\n      <td>8.0</td>\n      <td>healthy</td>\n      <td>NORM377</td>\n      <td>0.0</td>\n      <td>1.0</td>\n    </tr>\n    <tr>\n      <th>73</th>\n      <td>datasets/Dataset_C2/12_channel/Test</td>\n      <td>e15493s3_P16896</td>\n      <td>256</td>\n      <td>256</td>\n      <td>256</td>\n      <td>218</td>\n      <td>1</td>\n      <td>170</td>\n      <td>1</td>\n      <td>12</td>\n      <td>2019-01-20</td>\n      <td>2568.0</td>\n      <td>650000.0</td>\n      <td>6344.0</td>\n      <td>8.0</td>\n      <td>healthy</td>\n      <td>NORM365</td>\n      <td>0.0</td>\n      <td>1.0</td>\n    </tr>\n    <tr>\n      <th>74</th>\n      <td>datasets/Dataset_C2/12_channel/Train</td>\n      <td>e15494s3_P24064</td>\n      <td>256</td>\n      <td>256</td>\n      <td>256</td>\n      <td>218</td>\n      <td>1</td>\n      <td>170</td>\n      <td>1</td>\n      <td>12</td>\n      <td>2019-01-20</td>\n      <td>2568.0</td>\n      <td>650000.0</td>\n      <td>6344.0</td>\n      <td>8.0</td>\n      <td>healthy</td>\n      <td>NORM352</td>\n      <td>0.0</td>\n      <td>1.0</td>\n    </tr>\n    <tr>\n      <th>75</th>\n      <td>datasets/Dataset_C2/12_channel/Val</td>\n      <td>e15521s3_P33280</td>\n      <td>256</td>\n      <td>256</td>\n      <td>256</td>\n      <td>218</td>\n      <td>1</td>\n      <td>180</td>\n      <td>1</td>\n      <td>12</td>\n      <td>2019-01-24</td>\n      <td>3056.0</td>\n      <td>400000.0</td>\n      <td>7376.0</td>\n      <td>10.0</td>\n      <td>healthy</td>\n      <td>NORM605</td>\n      <td>0.0</td>\n      <td>1.0</td>\n    </tr>\n    <tr>\n      <th>76</th>\n      <td>datasets/Dataset_C2/12_channel/Train</td>\n      <td>e15523s3_P52224</td>\n      <td>256</td>\n      <td>256</td>\n      <td>256</td>\n      <td>218</td>\n      <td>1</td>\n      <td>170</td>\n      <td>1</td>\n      <td>12</td>\n      <td>2019-01-24</td>\n      <td>2568.0</td>\n      <td>650000.0</td>\n      <td>6344.0</td>\n      <td>8.0</td>\n      <td>healthy</td>\n      <td>NORM370</td>\n      <td>0.0</td>\n      <td>1.0</td>\n    </tr>\n    <tr>\n      <th>77</th>\n      <td>datasets/Dataset_C2/12_channel/Train</td>\n      <td>e15578s13_P08192</td>\n      <td>256</td>\n      <td>256</td>\n      <td>256</td>\n      <td>218</td>\n      <td>1</td>\n      <td>180</td>\n      <td>1</td>\n      <td>12</td>\n      <td>2019-02-02</td>\n      <td>3056.0</td>\n      <td>400000.0</td>\n      <td>7376.0</td>\n      <td>10.0</td>\n      <td>healthy</td>\n      <td>NORM602</td>\n      <td>0.0</td>\n      <td>1.0</td>\n    </tr>\n    <tr>\n      <th>78</th>\n      <td>datasets/Dataset_C2/12_channel/Train</td>\n      <td>e15581s3_P27136</td>\n      <td>256</td>\n      <td>256</td>\n      <td>256</td>\n      <td>218</td>\n      <td>1</td>\n      <td>170</td>\n      <td>1</td>\n      <td>12</td>\n      <td>2019-02-02</td>\n      <td>2568.0</td>\n      <td>650000.0</td>\n      <td>6344.0</td>\n      <td>8.0</td>\n      <td>healthy</td>\n      <td>NORM345</td>\n      <td>0.0</td>\n      <td>1.0</td>\n    </tr>\n    <tr>\n      <th>79</th>\n      <td>datasets/Dataset_C2/12_channel/Train</td>\n      <td>e15598s3_P54784</td>\n      <td>256</td>\n      <td>256</td>\n      <td>256</td>\n      <td>218</td>\n      <td>1</td>\n      <td>170</td>\n      <td>1</td>\n      <td>12</td>\n      <td>2019-02-05</td>\n      <td>2568.0</td>\n      <td>650000.0</td>\n      <td>6344.0</td>\n      <td>8.0</td>\n      <td>healthy</td>\n      <td>NORM380</td>\n      <td>0.0</td>\n      <td>1.0</td>\n    </tr>\n    <tr>\n      <th>80</th>\n      <td>datasets/Dataset_C2/12_channel/Test</td>\n      <td>e15613s4_P52736</td>\n      <td>256</td>\n      <td>256</td>\n      <td>256</td>\n      <td>218</td>\n      <td>1</td>\n      <td>180</td>\n      <td>1</td>\n      <td>12</td>\n      <td>2019-02-07</td>\n      <td>3056.0</td>\n      <td>400000.0</td>\n      <td>7376.0</td>\n      <td>10.0</td>\n      <td>healthy</td>\n      <td>NORM608</td>\n      <td>0.0</td>\n      <td>1.0</td>\n    </tr>\n    <tr>\n      <th>81</th>\n      <td>datasets/Dataset_C2/12_channel/Test</td>\n      <td>e15642s3_P48640</td>\n      <td>256</td>\n      <td>256</td>\n      <td>256</td>\n      <td>218</td>\n      <td>1</td>\n      <td>180</td>\n      <td>1</td>\n      <td>12</td>\n      <td>2019-02-13</td>\n      <td>3056.0</td>\n      <td>400000.0</td>\n      <td>7376.0</td>\n      <td>10.0</td>\n      <td>healthy</td>\n      <td>NORM611</td>\n      <td>0.0</td>\n      <td>1.0</td>\n    </tr>\n    <tr>\n      <th>84</th>\n      <td>datasets/Dataset_C2/12_channel/Test</td>\n      <td>e15691s3_P47104</td>\n      <td>256</td>\n      <td>256</td>\n      <td>256</td>\n      <td>218</td>\n      <td>1</td>\n      <td>180</td>\n      <td>1</td>\n      <td>12</td>\n      <td>2019-02-21</td>\n      <td>3056.0</td>\n      <td>400000.0</td>\n      <td>7376.0</td>\n      <td>10.0</td>\n      <td>healthy</td>\n      <td>NORM612</td>\n      <td>0.0</td>\n      <td>1.0</td>\n    </tr>\n    <tr>\n      <th>89</th>\n      <td>datasets/Dataset_C2/12_channel/Test</td>\n      <td>e15790s3_P01536</td>\n      <td>256</td>\n      <td>256</td>\n      <td>256</td>\n      <td>218</td>\n      <td>1</td>\n      <td>180</td>\n      <td>1</td>\n      <td>12</td>\n      <td>2019-03-10</td>\n      <td>3056.0</td>\n      <td>400000.0</td>\n      <td>7376.0</td>\n      <td>10.0</td>\n      <td>healthy</td>\n      <td>NORM610</td>\n      <td>0.0</td>\n      <td>1.0</td>\n    </tr>\n    <tr>\n      <th>90</th>\n      <td>datasets/Dataset_C2/12_channel/Test</td>\n      <td>e15791s4_P11264</td>\n      <td>256</td>\n      <td>256</td>\n      <td>256</td>\n      <td>218</td>\n      <td>1</td>\n      <td>170</td>\n      <td>1</td>\n      <td>12</td>\n      <td>2019-03-10</td>\n      <td>2568.0</td>\n      <td>650000.0</td>\n      <td>6344.0</td>\n      <td>8.0</td>\n      <td>healthy</td>\n      <td>NORM349</td>\n      <td>0.0</td>\n      <td>1.0</td>\n    </tr>\n    <tr>\n      <th>91</th>\n      <td>datasets/Dataset_C2/12_channel/Test</td>\n      <td>e15793s3_P25600</td>\n      <td>256</td>\n      <td>256</td>\n      <td>256</td>\n      <td>218</td>\n      <td>1</td>\n      <td>170</td>\n      <td>1</td>\n      <td>12</td>\n      <td>2019-03-10</td>\n      <td>2568.0</td>\n      <td>650000.0</td>\n      <td>6344.0</td>\n      <td>8.0</td>\n      <td>healthy</td>\n      <td>NORM344</td>\n      <td>0.0</td>\n      <td>1.0</td>\n    </tr>\n    <tr>\n      <th>114</th>\n      <td>datasets/Dataset_C2/12_channel/Test</td>\n      <td>e16284s3_P25088</td>\n      <td>256</td>\n      <td>256</td>\n      <td>256</td>\n      <td>218</td>\n      <td>1</td>\n      <td>180</td>\n      <td>1</td>\n      <td>12</td>\n      <td>2019-05-23</td>\n      <td>3056.0</td>\n      <td>400000.0</td>\n      <td>7376.0</td>\n      <td>10.0</td>\n      <td>healthy</td>\n      <td>NORM628</td>\n      <td>0.0</td>\n      <td>1.0</td>\n    </tr>\n    <tr>\n      <th>118</th>\n      <td>datasets/Dataset_C2/12_channel/Test</td>\n      <td>e16362s3_P07168</td>\n      <td>256</td>\n      <td>256</td>\n      <td>256</td>\n      <td>218</td>\n      <td>1</td>\n      <td>170</td>\n      <td>1</td>\n      <td>12</td>\n      <td>2019-06-04</td>\n      <td>2568.0</td>\n      <td>650000.0</td>\n      <td>6344.0</td>\n      <td>8.0</td>\n      <td>healthy</td>\n      <td>NORM336</td>\n      <td>0.0</td>\n      <td>1.0</td>\n    </tr>\n    <tr>\n      <th>163</th>\n      <td>datasets/Dataset_C2/12_channel/Train</td>\n      <td>e16971s3_P23040</td>\n      <td>256</td>\n      <td>256</td>\n      <td>256</td>\n      <td>218</td>\n      <td>1</td>\n      <td>180</td>\n      <td>1</td>\n      <td>12</td>\n      <td>2019-09-25</td>\n      <td>3056.0</td>\n      <td>400000.0</td>\n      <td>7376.0</td>\n      <td>10.0</td>\n      <td>healthy</td>\n      <td>NORM710</td>\n      <td>0.0</td>\n      <td>1.0</td>\n    </tr>\n    <tr>\n      <th>164</th>\n      <td>datasets/Dataset_C2/12_channel/Train</td>\n      <td>e16972s3_P31232</td>\n      <td>256</td>\n      <td>256</td>\n      <td>256</td>\n      <td>218</td>\n      <td>1</td>\n      <td>180</td>\n      <td>1</td>\n      <td>12</td>\n      <td>2019-09-25</td>\n      <td>3056.0</td>\n      <td>400000.0</td>\n      <td>7376.0</td>\n      <td>10.0</td>\n      <td>healthy</td>\n      <td>NORM709</td>\n      <td>0.0</td>\n      <td>1.0</td>\n    </tr>\n    <tr>\n      <th>319</th>\n      <td>datasets/Dataset_C2/12_channel/new</td>\n      <td>e19850s3_P09728</td>\n      <td>256</td>\n      <td>256</td>\n      <td>256</td>\n      <td>218</td>\n      <td>1</td>\n      <td>170</td>\n      <td>1</td>\n      <td>12</td>\n      <td>2022-03-17</td>\n      <td>2584.0</td>\n      <td>650000.0</td>\n      <td>6380.0</td>\n      <td>8.0</td>\n      <td>healthy</td>\n      <td>NORM414</td>\n      <td>0.0</td>\n      <td>1.0</td>\n    </tr>\n    <tr>\n      <th>320</th>\n      <td>datasets/Dataset_C2/12_channel/new</td>\n      <td>e19861s3_P16384</td>\n      <td>256</td>\n      <td>256</td>\n      <td>256</td>\n      <td>218</td>\n      <td>1</td>\n      <td>170</td>\n      <td>1</td>\n      <td>12</td>\n      <td>2022-03-21</td>\n      <td>2584.0</td>\n      <td>650000.0</td>\n      <td>6380.0</td>\n      <td>8.0</td>\n      <td>healthy</td>\n      <td>NORM406</td>\n      <td>0.0</td>\n      <td>1.0</td>\n    </tr>\n    <tr>\n      <th>321</th>\n      <td>datasets/Dataset_C2/12_channel/new</td>\n      <td>e19864s3_P17408</td>\n      <td>256</td>\n      <td>256</td>\n      <td>256</td>\n      <td>218</td>\n      <td>1</td>\n      <td>170</td>\n      <td>1</td>\n      <td>12</td>\n      <td>2022-03-22</td>\n      <td>2584.0</td>\n      <td>650000.0</td>\n      <td>6380.0</td>\n      <td>8.0</td>\n      <td>healthy</td>\n      <td>NORM422</td>\n      <td>0.0</td>\n      <td>1.0</td>\n    </tr>\n    <tr>\n      <th>322</th>\n      <td>datasets/Dataset_C2/12_channel/new</td>\n      <td>e19869s3_P60928</td>\n      <td>256</td>\n      <td>256</td>\n      <td>256</td>\n      <td>218</td>\n      <td>1</td>\n      <td>170</td>\n      <td>1</td>\n      <td>12</td>\n      <td>2022-03-23</td>\n      <td>2584.0</td>\n      <td>650000.0</td>\n      <td>6380.0</td>\n      <td>8.0</td>\n      <td>healthy</td>\n      <td>NORM438</td>\n      <td>0.0</td>\n      <td>1.0</td>\n    </tr>\n    <tr>\n      <th>323</th>\n      <td>datasets/Dataset_C2/12_channel/new</td>\n      <td>e19870s3_P70656</td>\n      <td>256</td>\n      <td>256</td>\n      <td>256</td>\n      <td>218</td>\n      <td>1</td>\n      <td>170</td>\n      <td>1</td>\n      <td>12</td>\n      <td>2022-03-23</td>\n      <td>2584.0</td>\n      <td>650000.0</td>\n      <td>6380.0</td>\n      <td>8.0</td>\n      <td>healthy</td>\n      <td>NORM410</td>\n      <td>0.0</td>\n      <td>1.0</td>\n    </tr>\n    <tr>\n      <th>324</th>\n      <td>datasets/Dataset_C2/12_channel/new</td>\n      <td>e19890s3_P36352</td>\n      <td>256</td>\n      <td>256</td>\n      <td>256</td>\n      <td>218</td>\n      <td>1</td>\n      <td>170</td>\n      <td>1</td>\n      <td>12</td>\n      <td>2022-03-28</td>\n      <td>2584.0</td>\n      <td>650000.0</td>\n      <td>6380.0</td>\n      <td>8.0</td>\n      <td>healthy</td>\n      <td>NORM424</td>\n      <td>0.0</td>\n      <td>1.0</td>\n    </tr>\n    <tr>\n      <th>326</th>\n      <td>datasets/Dataset_C2/12_channel/new</td>\n      <td>e19928s3_P17408</td>\n      <td>256</td>\n      <td>256</td>\n      <td>256</td>\n      <td>218</td>\n      <td>1</td>\n      <td>170</td>\n      <td>1</td>\n      <td>12</td>\n      <td>2022-04-06</td>\n      <td>2584.0</td>\n      <td>650000.0</td>\n      <td>6380.0</td>\n      <td>8.0</td>\n      <td>healthy</td>\n      <td>NORM426</td>\n      <td>0.0</td>\n      <td>1.0</td>\n    </tr>\n    <tr>\n      <th>327</th>\n      <td>datasets/Dataset_C2/12_channel/new</td>\n      <td>e19933s5_P59904</td>\n      <td>256</td>\n      <td>256</td>\n      <td>256</td>\n      <td>218</td>\n      <td>1</td>\n      <td>170</td>\n      <td>1</td>\n      <td>12</td>\n      <td>2022-04-07</td>\n      <td>2584.0</td>\n      <td>650000.0</td>\n      <td>6380.0</td>\n      <td>8.0</td>\n      <td>healthy</td>\n      <td>NORM441</td>\n      <td>0.0</td>\n      <td>1.0</td>\n    </tr>\n    <tr>\n      <th>328</th>\n      <td>datasets/Dataset_C2/12_channel/new</td>\n      <td>e19932s3_P49664</td>\n      <td>256</td>\n      <td>256</td>\n      <td>256</td>\n      <td>218</td>\n      <td>1</td>\n      <td>170</td>\n      <td>1</td>\n      <td>12</td>\n      <td>2022-04-07</td>\n      <td>2584.0</td>\n      <td>650000.0</td>\n      <td>6380.0</td>\n      <td>8.0</td>\n      <td>healthy</td>\n      <td>NORM421</td>\n      <td>0.0</td>\n      <td>1.0</td>\n    </tr>\n    <tr>\n      <th>329</th>\n      <td>datasets/Dataset_C2/12_channel/new</td>\n      <td>e19961s3_P20480</td>\n      <td>256</td>\n      <td>256</td>\n      <td>256</td>\n      <td>218</td>\n      <td>1</td>\n      <td>170</td>\n      <td>1</td>\n      <td>12</td>\n      <td>2022-04-13</td>\n      <td>2584.0</td>\n      <td>650000.0</td>\n      <td>6380.0</td>\n      <td>8.0</td>\n      <td>healthy</td>\n      <td>NORM411</td>\n      <td>0.0</td>\n      <td>1.0</td>\n    </tr>\n    <tr>\n      <th>330</th>\n      <td>datasets/Dataset_C2/12_channel/new</td>\n      <td>e19963s3_P39936</td>\n      <td>256</td>\n      <td>256</td>\n      <td>256</td>\n      <td>218</td>\n      <td>1</td>\n      <td>170</td>\n      <td>1</td>\n      <td>12</td>\n      <td>2022-04-13</td>\n      <td>2584.0</td>\n      <td>650000.0</td>\n      <td>6380.0</td>\n      <td>8.0</td>\n      <td>healthy</td>\n      <td>NORM404</td>\n      <td>0.0</td>\n      <td>1.0</td>\n    </tr>\n    <tr>\n      <th>331</th>\n      <td>datasets/Dataset_C2/12_channel/new</td>\n      <td>e19967s4_P16896</td>\n      <td>256</td>\n      <td>256</td>\n      <td>256</td>\n      <td>218</td>\n      <td>1</td>\n      <td>170</td>\n      <td>1</td>\n      <td>12</td>\n      <td>2022-04-14</td>\n      <td>2584.0</td>\n      <td>650000.0</td>\n      <td>6380.0</td>\n      <td>8.0</td>\n      <td>healthy</td>\n      <td>NORM435</td>\n      <td>0.0</td>\n      <td>1.0</td>\n    </tr>\n    <tr>\n      <th>332</th>\n      <td>datasets/Dataset_C2/12_channel/new</td>\n      <td>e19977s3_P37888</td>\n      <td>256</td>\n      <td>256</td>\n      <td>256</td>\n      <td>218</td>\n      <td>1</td>\n      <td>170</td>\n      <td>1</td>\n      <td>12</td>\n      <td>2022-04-18</td>\n      <td>2584.0</td>\n      <td>650000.0</td>\n      <td>6380.0</td>\n      <td>8.0</td>\n      <td>healthy</td>\n      <td>NROM405</td>\n      <td>0.0</td>\n      <td>1.0</td>\n    </tr>\n    <tr>\n      <th>333</th>\n      <td>datasets/Dataset_C2/12_channel/new</td>\n      <td>e19994s3_P54784</td>\n      <td>256</td>\n      <td>256</td>\n      <td>256</td>\n      <td>218</td>\n      <td>1</td>\n      <td>170</td>\n      <td>1</td>\n      <td>12</td>\n      <td>2022-04-21</td>\n      <td>2584.0</td>\n      <td>650000.0</td>\n      <td>6380.0</td>\n      <td>8.0</td>\n      <td>healthy</td>\n      <td>NORM448</td>\n      <td>0.0</td>\n      <td>1.0</td>\n    </tr>\n    <tr>\n      <th>334</th>\n      <td>datasets/Dataset_C2/12_channel/new</td>\n      <td>e19993s9_P50176</td>\n      <td>256</td>\n      <td>256</td>\n      <td>256</td>\n      <td>218</td>\n      <td>1</td>\n      <td>170</td>\n      <td>1</td>\n      <td>12</td>\n      <td>2022-04-21</td>\n      <td>2584.0</td>\n      <td>650000.0</td>\n      <td>6380.0</td>\n      <td>8.0</td>\n      <td>healthy</td>\n      <td>NORM440</td>\n      <td>0.0</td>\n      <td>1.0</td>\n    </tr>\n    <tr>\n      <th>335</th>\n      <td>datasets/Dataset_C2/12_channel/new</td>\n      <td>e20039s3_P33792</td>\n      <td>256</td>\n      <td>256</td>\n      <td>256</td>\n      <td>218</td>\n      <td>1</td>\n      <td>170</td>\n      <td>1</td>\n      <td>12</td>\n      <td>2022-05-03</td>\n      <td>2584.0</td>\n      <td>650000.0</td>\n      <td>6380.0</td>\n      <td>8.0</td>\n      <td>healthy</td>\n      <td>NORM423</td>\n      <td>0.0</td>\n      <td>1.0</td>\n    </tr>\n    <tr>\n      <th>336</th>\n      <td>datasets/Dataset_C2/12_channel/new</td>\n      <td>e20059s3_P51200</td>\n      <td>256</td>\n      <td>256</td>\n      <td>256</td>\n      <td>218</td>\n      <td>1</td>\n      <td>170</td>\n      <td>1</td>\n      <td>12</td>\n      <td>2022-05-05</td>\n      <td>2584.0</td>\n      <td>650000.0</td>\n      <td>6380.0</td>\n      <td>8.0</td>\n      <td>healthy</td>\n      <td>NORM446</td>\n      <td>0.0</td>\n      <td>1.0</td>\n    </tr>\n    <tr>\n      <th>337</th>\n      <td>datasets/Dataset_C2/12_channel/new</td>\n      <td>e20060s3_P59904</td>\n      <td>256</td>\n      <td>256</td>\n      <td>256</td>\n      <td>218</td>\n      <td>1</td>\n      <td>170</td>\n      <td>1</td>\n      <td>12</td>\n      <td>2022-05-05</td>\n      <td>2584.0</td>\n      <td>650000.0</td>\n      <td>6380.0</td>\n      <td>8.0</td>\n      <td>healthy</td>\n      <td>NORM444</td>\n      <td>0.0</td>\n      <td>1.0</td>\n    </tr>\n  </tbody>\n</table>\n</div>"
     },
     "execution_count": 51,
     "metadata": {},
     "output_type": "execute_result"
    }
   ],
   "source": [
    "# Create a new dataframe that excludes the rows in new_df\n",
    "remaining_df = df2.drop(new_df.index)\n",
    "remaining_df = remaining_df.loc[remaining_df[\"Type\"] == \"healthy\"].loc[remaining_df[\"Channels\"] == 12].loc[remaining_df[\"Number of scan\"] == 1]\n",
    "remaining_df_counts = remaining_df['Patient ID'].value_counts()\n",
    "remaining_df_counts\n",
    "# remaining_df\n",
    "# remaining_df_counts[remaining_df_counts == 1].keys()\n",
    "remaining_df = remaining_df[remaining_df['Patient ID'].isin(remaining_df_counts[remaining_df_counts == 1].keys())]\n",
    "remaining_df.to_csv('csvs/sv.csv', index=False)\n",
    "remaining_df"
   ],
   "metadata": {
    "collapsed": false,
    "ExecuteTime": {
     "end_time": "2024-04-19T22:30:43.029883772Z",
     "start_time": "2024-04-19T22:30:42.972380478Z"
    }
   },
   "id": "64253d02d346ebea"
  },
  {
   "cell_type": "code",
   "execution_count": 60,
   "outputs": [],
   "source": [
    "remaining_df_train = remaining_df.loc[remaining_df[\"Relative path\"].str.contains(\"Train\")]\n",
    "remaining_df_test = remaining_df.loc[remaining_df[\"Relative path\"].str.contains(\"Test\")]\n",
    "remaining_df_new = remaining_df.loc[remaining_df[\"Relative path\"].str.contains(\"new\")]\n",
    "remaining_df_val = remaining_df.loc[remaining_df[\"Relative path\"].str.contains(\"Val\")]\n",
    "remaining_df_train = pd.concat([remaining_df_val, remaining_df_train,remaining_df_test], ignore_index=True)\n",
    "remaining_df_train.to_csv('csvs/sv_train.csv', index=False)\n",
    "# remaining_df_test.to_csv('csvs/sv_test.csv', index=False)\n",
    "remaining_df_new.to_csv('csvs/sv_val.csv', index=False)"
   ],
   "metadata": {
    "collapsed": false,
    "ExecuteTime": {
     "end_time": "2024-04-19T22:48:17.805067049Z",
     "start_time": "2024-04-19T22:48:17.761499579Z"
    }
   },
   "id": "b84f1e529c97746c"
  },
  {
   "cell_type": "code",
   "execution_count": 65,
   "outputs": [
    {
     "data": {
      "text/plain": "'No overlap between train, validation, and test sets. The partition is correct.'"
     },
     "execution_count": 65,
     "metadata": {},
     "output_type": "execute_result"
    }
   ],
   "source": [
    "def test_no_overlap(train_ids, val_ids):\n",
    "    \"\"\"\n",
    "    Test function to ensure there is no overlap in patient IDs between train, validation, and test sets.\n",
    "\n",
    "    Parameters:\n",
    "    train_ids (set): Set of patient IDs in the train set.\n",
    "    val_ids (set): Set of patient IDs in the validation set.\n",
    "    test_ids (set): Set of patient IDs in the test set.\n",
    "\n",
    "    Returns:\n",
    "    str: A message indicating whether there is any overlap and, if so, which IDs are overlapping.\n",
    "    \"\"\"\n",
    "\n",
    "    # Find the intersection between the sets\n",
    "    train_val_overlap = train_ids.intersection(val_ids)\n",
    "\n",
    "\n",
    "\n",
    "    # Prepare a message to indicate if there is any overlap\n",
    "    overlap_message = \"\"\n",
    "    if train_val_overlap:\n",
    "        overlap_message += f\"Overlap between Train and Validation: {train_val_overlap}\\n\"\n",
    "\n",
    "\n",
    "\n",
    "    # If there is any overlap, return the message\n",
    "    if overlap_message:\n",
    "        return f\"There is overlap between the sets:\\n{overlap_message}\"\n",
    "    else:\n",
    "        return \"No overlap between train, validation, and test sets. The partition is correct.\"\n",
    "\n",
    "# Convert the patient IDs to sets\n",
    "train_ids = set(remaining_df_train['Patient ID'])\n",
    "val_ids = set(remaining_df_new['Patient ID'])\n",
    "\n",
    "\n",
    "# Run the test function\n",
    "test_no_overlap(train_ids, val_ids)\n"
   ],
   "metadata": {
    "collapsed": false,
    "ExecuteTime": {
     "end_time": "2024-04-19T23:07:59.926782962Z",
     "start_time": "2024-04-19T23:07:59.921234157Z"
    }
   },
   "id": "6b72aff95362cc0a"
  },
  {
   "cell_type": "code",
   "execution_count": null,
   "outputs": [],
   "source": [],
   "metadata": {
    "collapsed": false
   },
   "id": "173cccf3457eef70"
  }
 ],
 "metadata": {
  "kernelspec": {
   "display_name": "Python 3",
   "language": "python",
   "name": "python3"
  },
  "language_info": {
   "codemirror_mode": {
    "name": "ipython",
    "version": 2
   },
   "file_extension": ".py",
   "mimetype": "text/x-python",
   "name": "python",
   "nbconvert_exporter": "python",
   "pygments_lexer": "ipython2",
   "version": "2.7.6"
  }
 },
 "nbformat": 4,
 "nbformat_minor": 5
}
